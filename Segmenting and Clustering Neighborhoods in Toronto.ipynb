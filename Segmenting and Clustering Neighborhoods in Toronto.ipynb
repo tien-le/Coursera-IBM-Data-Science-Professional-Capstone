{
 "cells": [
  {
   "cell_type": "markdown",
   "metadata": {},
   "source": [
    "<p style=\"text-align: center;\"><font size=\"6\">Segmenting and Clustering Neighborhoods in Toronto</font></p>"
   ]
  },
  {
   "cell_type": "markdown",
   "metadata": {},
   "source": [
    "# Building a Dataframe \n",
    "\n",
    "We need build the dataframe of the postal code of each neighborhood along with the borough name and neighborhood name, in order to utilize the Foursquare location data.\n",
    " "
   ]
  },
  {
   "cell_type": "markdown",
   "metadata": {},
   "source": [
    "Use the Notebook to build the code to scrape the following Wikipedia page, https://en.wikipedia.org/wiki/List_of_postal_codes_of_Canada:_M, in order to obtain the data that is in the table of postal codes and to transform the data into a pandas dataframe.\n",
    "\n",
    "To create the above dataframe:\n",
    "\n",
    "+ The dataframe will consist of three columns: **PostalCode**, **Borough**, and **Neighborhood**\n",
    "+ Only process the cells that have an assigned borough. *Ignore cells with a borough that is Not assigned*.\n",
    "+ **More than one neighbourhood can exist in one postal code area*. For example, in the table on the Wikipedia page, you will notice that **M5A** is listed twice and has two neighborhoods: **Harbourfront** and **Regent Park**. *These two rows will be combined into one row with the neighborhoods separated with a comma as shown in row 11 in the above table.*\n",
    "+ If a cell has a borough but a **Not assigned** neighbourhood, then the neighborhood will be the same as the borough. So for the **9th** cell in the table on the Wikipedia page, the value of the Borough and the Neighborhood columns will be **Queen's Park**.\n",
    "+ Clean your Notebook and add Markdown cells to explain your work and any assumptions you are making.\n",
    "+ In the last cell of your notebook, use the *.shape method to print the number of rows of your dataframe*."
   ]
  },
  {
   "cell_type": "code",
   "execution_count": 1,
   "metadata": {
    "ExecuteTime": {
     "end_time": "2019-12-14T20:42:13.641940Z",
     "start_time": "2019-12-14T20:42:13.271901Z"
    }
   },
   "outputs": [],
   "source": [
    "import os\n",
    "import pandas as pd\n",
    "\n",
    "import warnings\n",
    "warnings.filterwarnings(\"ignore\")"
   ]
  },
  {
   "cell_type": "markdown",
   "metadata": {},
   "source": [
    "## Loading Tables from given Wikipedia page\n",
    "\n",
    "A forward sortation area (FSA) is a way to designate a geographical unit based on the first three characters in a Canadian postal code. To see more detail, please view in https://www.ic.gc.ca/eic/site/bsf-osb.nsf/eng/br03396.html\n",
    "\n",
    "We check the existed file csv that contain data of postal codes in given path. If not existing, we will scrape the given Wikipedia page to obtain the data of postal codes. Then, we save to file csv."
   ]
  },
  {
   "cell_type": "code",
   "execution_count": 2,
   "metadata": {
    "ExecuteTime": {
     "end_time": "2019-12-14T20:42:14.472436Z",
     "start_time": "2019-12-14T20:42:13.643759Z"
    }
   },
   "outputs": [
    {
     "name": "stdout",
     "output_type": "stream",
     "text": [
      "Loading table Toronto FSA from Wikipedia page\n",
      "The number of tables in given Wikipedia page : 3\n",
      "Save to file csv: ./var/Toronto_FSA.csv\n"
     ]
    }
   ],
   "source": [
    "file_input_path = \"./var/Toronto_FSA.csv\"\n",
    "df = None\n",
    "\n",
    "if os.path.exists(file_input_path):    \n",
    "    print(\"Loading from saved csv '%s' that was downloaded from Wikipedia page\" % file_input_path)\n",
    "    df = pd.read_csv(file_input_path, header=0)\n",
    "else:\n",
    "    print(\"Loading table Toronto FSA from Wikipedia page\")\n",
    "    \n",
    "    url_page = \"https://en.wikipedia.org/wiki/List_of_postal_codes_of_Canada:_M\"\n",
    "    tables = pd.read_html(url_page)\n",
    "    \n",
    "    print(\"The number of tables in given Wikipedia page : %s\" % len(tables))    \n",
    "    df = tables[0]\n",
    "    \n",
    "    print(\"Save to file csv: %s\" % file_input_path)\n",
    "    df.to_csv(file_input_path, header=True, index=False)"
   ]
  },
  {
   "cell_type": "markdown",
   "metadata": {},
   "source": [
    "## Examining the resulting dataframe\n",
    "\n",
    "The dataframe will consist of three columns: PostalCode, Borough, and Neighborhood"
   ]
  },
  {
   "cell_type": "code",
   "execution_count": 3,
   "metadata": {
    "ExecuteTime": {
     "end_time": "2019-12-14T20:42:14.479106Z",
     "start_time": "2019-12-14T20:42:14.474992Z"
    }
   },
   "outputs": [
    {
     "name": "stdout",
     "output_type": "stream",
     "text": [
      "(row, column) = (287, 3)\n"
     ]
    }
   ],
   "source": [
    "print(\"(row, column) = %s\" % str(df.shape))"
   ]
  },
  {
   "cell_type": "code",
   "execution_count": 4,
   "metadata": {
    "ExecuteTime": {
     "end_time": "2019-12-14T20:42:14.504298Z",
     "start_time": "2019-12-14T20:42:14.481828Z"
    }
   },
   "outputs": [
    {
     "name": "stdout",
     "output_type": "stream",
     "text": [
      "<class 'pandas.core.frame.DataFrame'>\n",
      "RangeIndex: 287 entries, 0 to 286\n",
      "Data columns (total 3 columns):\n",
      "Postcode         287 non-null object\n",
      "Borough          287 non-null object\n",
      "Neighbourhood    287 non-null object\n",
      "dtypes: object(3)\n",
      "memory usage: 6.9+ KB\n"
     ]
    }
   ],
   "source": [
    "df.info()"
   ]
  },
  {
   "cell_type": "code",
   "execution_count": 5,
   "metadata": {
    "ExecuteTime": {
     "end_time": "2019-12-14T20:42:14.545406Z",
     "start_time": "2019-12-14T20:42:14.506510Z"
    }
   },
   "outputs": [
    {
     "data": {
      "text/html": [
       "<div>\n",
       "<style scoped>\n",
       "    .dataframe tbody tr th:only-of-type {\n",
       "        vertical-align: middle;\n",
       "    }\n",
       "\n",
       "    .dataframe tbody tr th {\n",
       "        vertical-align: top;\n",
       "    }\n",
       "\n",
       "    .dataframe thead th {\n",
       "        text-align: right;\n",
       "    }\n",
       "</style>\n",
       "<table border=\"1\" class=\"dataframe\">\n",
       "  <thead>\n",
       "    <tr style=\"text-align: right;\">\n",
       "      <th></th>\n",
       "      <th>Postcode</th>\n",
       "      <th>Borough</th>\n",
       "      <th>Neighbourhood</th>\n",
       "    </tr>\n",
       "  </thead>\n",
       "  <tbody>\n",
       "    <tr>\n",
       "      <td>0</td>\n",
       "      <td>M1A</td>\n",
       "      <td>Not assigned</td>\n",
       "      <td>Not assigned</td>\n",
       "    </tr>\n",
       "    <tr>\n",
       "      <td>1</td>\n",
       "      <td>M2A</td>\n",
       "      <td>Not assigned</td>\n",
       "      <td>Not assigned</td>\n",
       "    </tr>\n",
       "    <tr>\n",
       "      <td>2</td>\n",
       "      <td>M3A</td>\n",
       "      <td>North York</td>\n",
       "      <td>Parkwoods</td>\n",
       "    </tr>\n",
       "    <tr>\n",
       "      <td>3</td>\n",
       "      <td>M4A</td>\n",
       "      <td>North York</td>\n",
       "      <td>Victoria Village</td>\n",
       "    </tr>\n",
       "    <tr>\n",
       "      <td>4</td>\n",
       "      <td>M5A</td>\n",
       "      <td>Downtown Toronto</td>\n",
       "      <td>Harbourfront</td>\n",
       "    </tr>\n",
       "  </tbody>\n",
       "</table>\n",
       "</div>"
      ],
      "text/plain": [
       "  Postcode           Borough     Neighbourhood\n",
       "0      M1A      Not assigned      Not assigned\n",
       "1      M2A      Not assigned      Not assigned\n",
       "2      M3A        North York         Parkwoods\n",
       "3      M4A        North York  Victoria Village\n",
       "4      M5A  Downtown Toronto      Harbourfront"
      ]
     },
     "execution_count": 5,
     "metadata": {},
     "output_type": "execute_result"
    }
   ],
   "source": [
    "df.head()"
   ]
  },
  {
   "cell_type": "code",
   "execution_count": 6,
   "metadata": {
    "ExecuteTime": {
     "end_time": "2019-12-14T20:42:14.563860Z",
     "start_time": "2019-12-14T20:42:14.547588Z"
    }
   },
   "outputs": [
    {
     "data": {
      "text/plain": [
       "Index(['Postcode', 'Borough', 'Neighbourhood'], dtype='object')"
      ]
     },
     "execution_count": 6,
     "metadata": {},
     "output_type": "execute_result"
    }
   ],
   "source": [
    "df.columns"
   ]
  },
  {
   "cell_type": "markdown",
   "metadata": {},
   "source": [
    "## Filtering by \"Borough\"\n",
    "\n",
    "Only process the cells that have an assigned borough. Ignore cells with a borough that is **Not assigned**."
   ]
  },
  {
   "cell_type": "code",
   "execution_count": 7,
   "metadata": {
    "ExecuteTime": {
     "end_time": "2019-12-14T20:42:14.577697Z",
     "start_time": "2019-12-14T20:42:14.565931Z"
    }
   },
   "outputs": [],
   "source": [
    "COL_NAME_POSTCODE = \"Postcode\"\n",
    "COL_NAME_BOROUGH = \"Borough\"\n",
    "COL_NAME_NEIGHBOURHOOD = \"Neighbourhood\"\n",
    "\n",
    "CONST_NOT_ASSIGNED = \"Not assigned\""
   ]
  },
  {
   "cell_type": "code",
   "execution_count": 8,
   "metadata": {
    "ExecuteTime": {
     "end_time": "2019-12-14T20:42:14.596451Z",
     "start_time": "2019-12-14T20:42:14.581007Z"
    }
   },
   "outputs": [],
   "source": [
    "df = df[df[COL_NAME_BOROUGH] != CONST_NOT_ASSIGNED]"
   ]
  },
  {
   "cell_type": "code",
   "execution_count": 9,
   "metadata": {
    "ExecuteTime": {
     "end_time": "2019-12-14T20:42:14.615617Z",
     "start_time": "2019-12-14T20:42:14.598771Z"
    }
   },
   "outputs": [
    {
     "name": "stdout",
     "output_type": "stream",
     "text": [
      "(row, column) = (210, 3)\n"
     ]
    }
   ],
   "source": [
    "print(\"(row, column) = %s\" % str(df.shape))"
   ]
  },
  {
   "cell_type": "code",
   "execution_count": 10,
   "metadata": {
    "ExecuteTime": {
     "end_time": "2019-12-14T20:42:14.652811Z",
     "start_time": "2019-12-14T20:42:14.617650Z"
    }
   },
   "outputs": [
    {
     "data": {
      "text/html": [
       "<div>\n",
       "<style scoped>\n",
       "    .dataframe tbody tr th:only-of-type {\n",
       "        vertical-align: middle;\n",
       "    }\n",
       "\n",
       "    .dataframe tbody tr th {\n",
       "        vertical-align: top;\n",
       "    }\n",
       "\n",
       "    .dataframe thead th {\n",
       "        text-align: right;\n",
       "    }\n",
       "</style>\n",
       "<table border=\"1\" class=\"dataframe\">\n",
       "  <thead>\n",
       "    <tr style=\"text-align: right;\">\n",
       "      <th></th>\n",
       "      <th>Postcode</th>\n",
       "      <th>Borough</th>\n",
       "      <th>Neighbourhood</th>\n",
       "    </tr>\n",
       "  </thead>\n",
       "  <tbody>\n",
       "    <tr>\n",
       "      <td>2</td>\n",
       "      <td>M3A</td>\n",
       "      <td>North York</td>\n",
       "      <td>Parkwoods</td>\n",
       "    </tr>\n",
       "    <tr>\n",
       "      <td>3</td>\n",
       "      <td>M4A</td>\n",
       "      <td>North York</td>\n",
       "      <td>Victoria Village</td>\n",
       "    </tr>\n",
       "    <tr>\n",
       "      <td>4</td>\n",
       "      <td>M5A</td>\n",
       "      <td>Downtown Toronto</td>\n",
       "      <td>Harbourfront</td>\n",
       "    </tr>\n",
       "    <tr>\n",
       "      <td>5</td>\n",
       "      <td>M6A</td>\n",
       "      <td>North York</td>\n",
       "      <td>Lawrence Heights</td>\n",
       "    </tr>\n",
       "    <tr>\n",
       "      <td>6</td>\n",
       "      <td>M6A</td>\n",
       "      <td>North York</td>\n",
       "      <td>Lawrence Manor</td>\n",
       "    </tr>\n",
       "  </tbody>\n",
       "</table>\n",
       "</div>"
      ],
      "text/plain": [
       "  Postcode           Borough     Neighbourhood\n",
       "2      M3A        North York         Parkwoods\n",
       "3      M4A        North York  Victoria Village\n",
       "4      M5A  Downtown Toronto      Harbourfront\n",
       "5      M6A        North York  Lawrence Heights\n",
       "6      M6A        North York    Lawrence Manor"
      ]
     },
     "execution_count": 10,
     "metadata": {},
     "output_type": "execute_result"
    }
   ],
   "source": [
    "df.head()"
   ]
  },
  {
   "cell_type": "markdown",
   "metadata": {},
   "source": [
    "## Combining the neighborhoods that have the same Postcode\n",
    "\n",
    "*More than one neighbourhood can exist in one postal code area*. For example, in the table on the Wikipedia page, you will notice that **M5A** is listed twice and has two neighborhoods: **Harbourfront** and **Regent Park**. *These two rows will be combined into one row with the neighborhoods separated with a comma as shown in row 11 in the above table.*"
   ]
  },
  {
   "cell_type": "code",
   "execution_count": 11,
   "metadata": {
    "ExecuteTime": {
     "end_time": "2019-12-14T20:42:14.674665Z",
     "start_time": "2019-12-14T20:42:14.654605Z"
    }
   },
   "outputs": [],
   "source": [
    "df_combine = df.groupby(by=[COL_NAME_POSTCODE, \n",
    "                            COL_NAME_BOROUGH]).agg(lambda x: ','.join(x)).reset_index()"
   ]
  },
  {
   "cell_type": "markdown",
   "metadata": {},
   "source": [
    "### Showing top-5 in dataframe"
   ]
  },
  {
   "cell_type": "code",
   "execution_count": 12,
   "metadata": {
    "ExecuteTime": {
     "end_time": "2019-12-14T20:42:14.696188Z",
     "start_time": "2019-12-14T20:42:14.677418Z"
    },
    "scrolled": true
   },
   "outputs": [
    {
     "data": {
      "text/html": [
       "<div>\n",
       "<style scoped>\n",
       "    .dataframe tbody tr th:only-of-type {\n",
       "        vertical-align: middle;\n",
       "    }\n",
       "\n",
       "    .dataframe tbody tr th {\n",
       "        vertical-align: top;\n",
       "    }\n",
       "\n",
       "    .dataframe thead th {\n",
       "        text-align: right;\n",
       "    }\n",
       "</style>\n",
       "<table border=\"1\" class=\"dataframe\">\n",
       "  <thead>\n",
       "    <tr style=\"text-align: right;\">\n",
       "      <th></th>\n",
       "      <th>Postcode</th>\n",
       "      <th>Borough</th>\n",
       "      <th>Neighbourhood</th>\n",
       "    </tr>\n",
       "  </thead>\n",
       "  <tbody>\n",
       "    <tr>\n",
       "      <td>0</td>\n",
       "      <td>M1B</td>\n",
       "      <td>Scarborough</td>\n",
       "      <td>Rouge,Malvern</td>\n",
       "    </tr>\n",
       "    <tr>\n",
       "      <td>1</td>\n",
       "      <td>M1C</td>\n",
       "      <td>Scarborough</td>\n",
       "      <td>Highland Creek,Rouge Hill,Port Union</td>\n",
       "    </tr>\n",
       "    <tr>\n",
       "      <td>2</td>\n",
       "      <td>M1E</td>\n",
       "      <td>Scarborough</td>\n",
       "      <td>Guildwood,Morningside,West Hill</td>\n",
       "    </tr>\n",
       "    <tr>\n",
       "      <td>3</td>\n",
       "      <td>M1G</td>\n",
       "      <td>Scarborough</td>\n",
       "      <td>Woburn</td>\n",
       "    </tr>\n",
       "    <tr>\n",
       "      <td>4</td>\n",
       "      <td>M1H</td>\n",
       "      <td>Scarborough</td>\n",
       "      <td>Cedarbrae</td>\n",
       "    </tr>\n",
       "  </tbody>\n",
       "</table>\n",
       "</div>"
      ],
      "text/plain": [
       "  Postcode      Borough                         Neighbourhood\n",
       "0      M1B  Scarborough                         Rouge,Malvern\n",
       "1      M1C  Scarborough  Highland Creek,Rouge Hill,Port Union\n",
       "2      M1E  Scarborough       Guildwood,Morningside,West Hill\n",
       "3      M1G  Scarborough                                Woburn\n",
       "4      M1H  Scarborough                             Cedarbrae"
      ]
     },
     "execution_count": 12,
     "metadata": {},
     "output_type": "execute_result"
    }
   ],
   "source": [
    "df_combine.head()"
   ]
  },
  {
   "cell_type": "markdown",
   "metadata": {},
   "source": [
    "### Reviewing a special Postcode and Borough"
   ]
  },
  {
   "cell_type": "code",
   "execution_count": 13,
   "metadata": {
    "ExecuteTime": {
     "end_time": "2019-12-14T20:42:14.713297Z",
     "start_time": "2019-12-14T20:42:14.697620Z"
    }
   },
   "outputs": [
    {
     "data": {
      "text/html": [
       "<div>\n",
       "<style scoped>\n",
       "    .dataframe tbody tr th:only-of-type {\n",
       "        vertical-align: middle;\n",
       "    }\n",
       "\n",
       "    .dataframe tbody tr th {\n",
       "        vertical-align: top;\n",
       "    }\n",
       "\n",
       "    .dataframe thead th {\n",
       "        text-align: right;\n",
       "    }\n",
       "</style>\n",
       "<table border=\"1\" class=\"dataframe\">\n",
       "  <thead>\n",
       "    <tr style=\"text-align: right;\">\n",
       "      <th></th>\n",
       "      <th>Postcode</th>\n",
       "      <th>Borough</th>\n",
       "      <th>Neighbourhood</th>\n",
       "    </tr>\n",
       "  </thead>\n",
       "  <tbody>\n",
       "    <tr>\n",
       "      <td>68</td>\n",
       "      <td>M5V</td>\n",
       "      <td>Downtown Toronto</td>\n",
       "      <td>CN Tower,Bathurst Quay,Island airport,Harbourf...</td>\n",
       "    </tr>\n",
       "  </tbody>\n",
       "</table>\n",
       "</div>"
      ],
      "text/plain": [
       "   Postcode           Borough  \\\n",
       "68      M5V  Downtown Toronto   \n",
       "\n",
       "                                        Neighbourhood  \n",
       "68  CN Tower,Bathurst Quay,Island airport,Harbourf...  "
      ]
     },
     "execution_count": 13,
     "metadata": {},
     "output_type": "execute_result"
    }
   ],
   "source": [
    "df_combine[(df_combine[COL_NAME_POSTCODE]==\"M5V\") & (df_combine[COL_NAME_BOROUGH]==\"Downtown Toronto\")]"
   ]
  },
  {
   "cell_type": "markdown",
   "metadata": {},
   "source": [
    "## Updating neighbourhood that is assigned to Not assigned\n",
    "\n",
    "If a cell has a borough but a **Not assigned** neighbourhood, then the neighborhood will be the same as the borough. So for the **9th** cell in the table on the Wikipedia page, the value of the Borough and the Neighborhood columns will be **Queen's Park**."
   ]
  },
  {
   "cell_type": "markdown",
   "metadata": {},
   "source": [
    "### Listing neighbourhood having \"Not assigned\""
   ]
  },
  {
   "cell_type": "code",
   "execution_count": 14,
   "metadata": {
    "ExecuteTime": {
     "end_time": "2019-12-14T20:42:14.732365Z",
     "start_time": "2019-12-14T20:42:14.714733Z"
    }
   },
   "outputs": [
    {
     "data": {
      "text/html": [
       "<div>\n",
       "<style scoped>\n",
       "    .dataframe tbody tr th:only-of-type {\n",
       "        vertical-align: middle;\n",
       "    }\n",
       "\n",
       "    .dataframe tbody tr th {\n",
       "        vertical-align: top;\n",
       "    }\n",
       "\n",
       "    .dataframe thead th {\n",
       "        text-align: right;\n",
       "    }\n",
       "</style>\n",
       "<table border=\"1\" class=\"dataframe\">\n",
       "  <thead>\n",
       "    <tr style=\"text-align: right;\">\n",
       "      <th></th>\n",
       "      <th>Postcode</th>\n",
       "      <th>Borough</th>\n",
       "      <th>Neighbourhood</th>\n",
       "    </tr>\n",
       "  </thead>\n",
       "  <tbody>\n",
       "    <tr>\n",
       "      <td>85</td>\n",
       "      <td>M7A</td>\n",
       "      <td>Queen's Park</td>\n",
       "      <td>Not assigned</td>\n",
       "    </tr>\n",
       "  </tbody>\n",
       "</table>\n",
       "</div>"
      ],
      "text/plain": [
       "   Postcode       Borough Neighbourhood\n",
       "85      M7A  Queen's Park  Not assigned"
      ]
     },
     "execution_count": 14,
     "metadata": {},
     "output_type": "execute_result"
    }
   ],
   "source": [
    "df_combine_filter = df_combine[df_combine[COL_NAME_NEIGHBOURHOOD]==CONST_NOT_ASSIGNED]\n",
    "df_combine_filter"
   ]
  },
  {
   "cell_type": "code",
   "execution_count": 15,
   "metadata": {
    "ExecuteTime": {
     "end_time": "2019-12-14T20:42:14.747645Z",
     "start_time": "2019-12-14T20:42:14.733961Z"
    }
   },
   "outputs": [
    {
     "name": "stdout",
     "output_type": "stream",
     "text": [
      "Postcode whose neighbourhood is 'Not assigned': M7A\n"
     ]
    }
   ],
   "source": [
    "postcode_temp = \"\"\n",
    "if not df_combine_filter.empty:\n",
    "    postcode_temp = df_combine_filter[COL_NAME_POSTCODE].iloc[0]\n",
    "    print(\"Postcode whose neighbourhood is 'Not assigned': %s\" % postcode_temp)"
   ]
  },
  {
   "cell_type": "markdown",
   "metadata": {},
   "source": [
    "### Updating neighbourhood"
   ]
  },
  {
   "cell_type": "code",
   "execution_count": 16,
   "metadata": {
    "ExecuteTime": {
     "end_time": "2019-12-14T20:42:14.767044Z",
     "start_time": "2019-12-14T20:42:14.749054Z"
    }
   },
   "outputs": [],
   "source": [
    "df_combine[COL_NAME_NEIGHBOURHOOD] = df_combine.apply(\n",
    "    lambda row: row[COL_NAME_BOROUGH] if row[COL_NAME_NEIGHBOURHOOD]==CONST_NOT_ASSIGNED else row[COL_NAME_NEIGHBOURHOOD], \n",
    "    axis=1)"
   ]
  },
  {
   "cell_type": "markdown",
   "metadata": {},
   "source": [
    "### Verifying the updated value"
   ]
  },
  {
   "cell_type": "code",
   "execution_count": 17,
   "metadata": {
    "ExecuteTime": {
     "end_time": "2019-12-14T20:42:14.791682Z",
     "start_time": "2019-12-14T20:42:14.768961Z"
    }
   },
   "outputs": [
    {
     "data": {
      "text/html": [
       "<div>\n",
       "<style scoped>\n",
       "    .dataframe tbody tr th:only-of-type {\n",
       "        vertical-align: middle;\n",
       "    }\n",
       "\n",
       "    .dataframe tbody tr th {\n",
       "        vertical-align: top;\n",
       "    }\n",
       "\n",
       "    .dataframe thead th {\n",
       "        text-align: right;\n",
       "    }\n",
       "</style>\n",
       "<table border=\"1\" class=\"dataframe\">\n",
       "  <thead>\n",
       "    <tr style=\"text-align: right;\">\n",
       "      <th></th>\n",
       "      <th>Postcode</th>\n",
       "      <th>Borough</th>\n",
       "      <th>Neighbourhood</th>\n",
       "    </tr>\n",
       "  </thead>\n",
       "  <tbody>\n",
       "    <tr>\n",
       "      <td>85</td>\n",
       "      <td>M7A</td>\n",
       "      <td>Queen's Park</td>\n",
       "      <td>Queen's Park</td>\n",
       "    </tr>\n",
       "  </tbody>\n",
       "</table>\n",
       "</div>"
      ],
      "text/plain": [
       "   Postcode       Borough Neighbourhood\n",
       "85      M7A  Queen's Park  Queen's Park"
      ]
     },
     "execution_count": 17,
     "metadata": {},
     "output_type": "execute_result"
    }
   ],
   "source": [
    "df_combine[df_combine[COL_NAME_POSTCODE]==postcode_temp]"
   ]
  },
  {
   "cell_type": "code",
   "execution_count": 18,
   "metadata": {
    "ExecuteTime": {
     "end_time": "2019-12-14T20:42:14.809629Z",
     "start_time": "2019-12-14T20:42:14.793172Z"
    }
   },
   "outputs": [
    {
     "name": "stdout",
     "output_type": "stream",
     "text": [
      "<class 'pandas.core.frame.DataFrame'>\n",
      "RangeIndex: 103 entries, 0 to 102\n",
      "Data columns (total 3 columns):\n",
      "Postcode         103 non-null object\n",
      "Borough          103 non-null object\n",
      "Neighbourhood    103 non-null object\n",
      "dtypes: object(3)\n",
      "memory usage: 2.5+ KB\n"
     ]
    }
   ],
   "source": [
    "df_combine.info()"
   ]
  },
  {
   "cell_type": "code",
   "execution_count": 19,
   "metadata": {
    "ExecuteTime": {
     "end_time": "2019-12-14T20:42:14.831083Z",
     "start_time": "2019-12-14T20:42:14.811009Z"
    }
   },
   "outputs": [
    {
     "data": {
      "text/html": [
       "<div>\n",
       "<style scoped>\n",
       "    .dataframe tbody tr th:only-of-type {\n",
       "        vertical-align: middle;\n",
       "    }\n",
       "\n",
       "    .dataframe tbody tr th {\n",
       "        vertical-align: top;\n",
       "    }\n",
       "\n",
       "    .dataframe thead th {\n",
       "        text-align: right;\n",
       "    }\n",
       "</style>\n",
       "<table border=\"1\" class=\"dataframe\">\n",
       "  <thead>\n",
       "    <tr style=\"text-align: right;\">\n",
       "      <th></th>\n",
       "      <th>Postcode</th>\n",
       "      <th>Borough</th>\n",
       "      <th>Neighbourhood</th>\n",
       "    </tr>\n",
       "  </thead>\n",
       "  <tbody>\n",
       "    <tr>\n",
       "      <td>0</td>\n",
       "      <td>M1B</td>\n",
       "      <td>Scarborough</td>\n",
       "      <td>Rouge,Malvern</td>\n",
       "    </tr>\n",
       "    <tr>\n",
       "      <td>1</td>\n",
       "      <td>M1C</td>\n",
       "      <td>Scarborough</td>\n",
       "      <td>Highland Creek,Rouge Hill,Port Union</td>\n",
       "    </tr>\n",
       "    <tr>\n",
       "      <td>2</td>\n",
       "      <td>M1E</td>\n",
       "      <td>Scarborough</td>\n",
       "      <td>Guildwood,Morningside,West Hill</td>\n",
       "    </tr>\n",
       "    <tr>\n",
       "      <td>3</td>\n",
       "      <td>M1G</td>\n",
       "      <td>Scarborough</td>\n",
       "      <td>Woburn</td>\n",
       "    </tr>\n",
       "    <tr>\n",
       "      <td>4</td>\n",
       "      <td>M1H</td>\n",
       "      <td>Scarborough</td>\n",
       "      <td>Cedarbrae</td>\n",
       "    </tr>\n",
       "    <tr>\n",
       "      <td>...</td>\n",
       "      <td>...</td>\n",
       "      <td>...</td>\n",
       "      <td>...</td>\n",
       "    </tr>\n",
       "    <tr>\n",
       "      <td>98</td>\n",
       "      <td>M9N</td>\n",
       "      <td>York</td>\n",
       "      <td>Weston</td>\n",
       "    </tr>\n",
       "    <tr>\n",
       "      <td>99</td>\n",
       "      <td>M9P</td>\n",
       "      <td>Etobicoke</td>\n",
       "      <td>Westmount</td>\n",
       "    </tr>\n",
       "    <tr>\n",
       "      <td>100</td>\n",
       "      <td>M9R</td>\n",
       "      <td>Etobicoke</td>\n",
       "      <td>Kingsview Village,Martin Grove Gardens,Richvie...</td>\n",
       "    </tr>\n",
       "    <tr>\n",
       "      <td>101</td>\n",
       "      <td>M9V</td>\n",
       "      <td>Etobicoke</td>\n",
       "      <td>Albion Gardens,Beaumond Heights,Humbergate,Jam...</td>\n",
       "    </tr>\n",
       "    <tr>\n",
       "      <td>102</td>\n",
       "      <td>M9W</td>\n",
       "      <td>Etobicoke</td>\n",
       "      <td>Northwest</td>\n",
       "    </tr>\n",
       "  </tbody>\n",
       "</table>\n",
       "<p>103 rows × 3 columns</p>\n",
       "</div>"
      ],
      "text/plain": [
       "    Postcode      Borough                                      Neighbourhood\n",
       "0        M1B  Scarborough                                      Rouge,Malvern\n",
       "1        M1C  Scarborough               Highland Creek,Rouge Hill,Port Union\n",
       "2        M1E  Scarborough                    Guildwood,Morningside,West Hill\n",
       "3        M1G  Scarborough                                             Woburn\n",
       "4        M1H  Scarborough                                          Cedarbrae\n",
       "..       ...          ...                                                ...\n",
       "98       M9N         York                                             Weston\n",
       "99       M9P    Etobicoke                                          Westmount\n",
       "100      M9R    Etobicoke  Kingsview Village,Martin Grove Gardens,Richvie...\n",
       "101      M9V    Etobicoke  Albion Gardens,Beaumond Heights,Humbergate,Jam...\n",
       "102      M9W    Etobicoke                                          Northwest\n",
       "\n",
       "[103 rows x 3 columns]"
      ]
     },
     "execution_count": 19,
     "metadata": {},
     "output_type": "execute_result"
    }
   ],
   "source": [
    "df_combine"
   ]
  },
  {
   "cell_type": "markdown",
   "metadata": {},
   "source": [
    "## Getting the size of dataframe"
   ]
  },
  {
   "cell_type": "code",
   "execution_count": 20,
   "metadata": {
    "ExecuteTime": {
     "end_time": "2019-12-14T20:42:14.848670Z",
     "start_time": "2019-12-14T20:42:14.833285Z"
    }
   },
   "outputs": [
    {
     "name": "stdout",
     "output_type": "stream",
     "text": [
      "(row, column) = (103, 3)\n"
     ]
    }
   ],
   "source": [
    "print(\"(row, column) = %s\" % str(df_combine.shape))"
   ]
  },
  {
   "cell_type": "markdown",
   "metadata": {},
   "source": [
    "# Getting the latitude and the longitude coordinates of each neighborhood"
   ]
  },
  {
   "cell_type": "markdown",
   "metadata": {},
   "source": [
    "Now that you have built a dataframe of the postal code of each neighborhood along with the borough name and neighborhood name, in order to utilize the Foursquare location data, we need to get the latitude and the longitude coordinates of each neighborhood.\n",
    "\n",
    "In an older version of this course, we were leveraging the Google Maps Geocoding API to get the latitude and the longitude coordinates of each neighborhood. However, recently Google started charging for their API: http://geoawesomeness.com/developers-up-in-arms-over-google-maps-api-insane-price-hike/, so we will use the Geocoder Python package instead: https://geocoder.readthedocs.io/index.html.\n",
    "\n",
    "The problem with this Package is you have to be persistent sometimes in order to get the geographical coordinates of a given postal code. So you can make a call to get the latitude and longitude coordinates of a given postal code and the result would be None, and then make the call again and you would get the coordinates. So, in order to make sure that you get the coordinates for all of our neighborhoods, you can run a while loop for each postal code.\n",
    "\n",
    "Given that this package can be very unreliable, in case you are not able to get the geographical coordinates of the neighborhoods using the Geocoder package, here is a link to a csv file that has the geographical coordinates of each postal code: http://cocl.us/Geospatial_data"
   ]
  },
  {
   "cell_type": "markdown",
   "metadata": {},
   "source": [
    "## Loading the geographical coordinates of each postal code"
   ]
  },
  {
   "cell_type": "code",
   "execution_count": 21,
   "metadata": {
    "ExecuteTime": {
     "end_time": "2019-12-14T20:42:15.188568Z",
     "start_time": "2019-12-14T20:42:15.180770Z"
    }
   },
   "outputs": [],
   "source": [
    "COL_NAME_POSTAL_CODE = \"Postal Code\"\n",
    "COL_NAME_LATITUDE = \"Latitude\"\n",
    "COL_NAME_LONGITUDE = \"Longitude\"\n",
    "\n",
    "file_input_path = \"./var/Geospatial_Coordinates.csv\"\n",
    "\n",
    "# Loading file csv\n",
    "df_coordinates = pd.read_csv(file_input_path, header=0)"
   ]
  },
  {
   "cell_type": "code",
   "execution_count": 22,
   "metadata": {
    "ExecuteTime": {
     "end_time": "2019-12-14T20:42:15.203291Z",
     "start_time": "2019-12-14T20:42:15.190254Z"
    }
   },
   "outputs": [
    {
     "name": "stdout",
     "output_type": "stream",
     "text": [
      "(row, column) = (103, 3)\n"
     ]
    }
   ],
   "source": [
    "print(\"(row, column) = %s\" % str(df_coordinates.shape))"
   ]
  },
  {
   "cell_type": "code",
   "execution_count": 23,
   "metadata": {
    "ExecuteTime": {
     "end_time": "2019-12-14T20:42:15.222747Z",
     "start_time": "2019-12-14T20:42:15.204822Z"
    }
   },
   "outputs": [
    {
     "data": {
      "text/html": [
       "<div>\n",
       "<style scoped>\n",
       "    .dataframe tbody tr th:only-of-type {\n",
       "        vertical-align: middle;\n",
       "    }\n",
       "\n",
       "    .dataframe tbody tr th {\n",
       "        vertical-align: top;\n",
       "    }\n",
       "\n",
       "    .dataframe thead th {\n",
       "        text-align: right;\n",
       "    }\n",
       "</style>\n",
       "<table border=\"1\" class=\"dataframe\">\n",
       "  <thead>\n",
       "    <tr style=\"text-align: right;\">\n",
       "      <th></th>\n",
       "      <th>Postal Code</th>\n",
       "      <th>Latitude</th>\n",
       "      <th>Longitude</th>\n",
       "    </tr>\n",
       "  </thead>\n",
       "  <tbody>\n",
       "    <tr>\n",
       "      <td>0</td>\n",
       "      <td>M1B</td>\n",
       "      <td>43.806686</td>\n",
       "      <td>-79.194353</td>\n",
       "    </tr>\n",
       "    <tr>\n",
       "      <td>1</td>\n",
       "      <td>M1C</td>\n",
       "      <td>43.784535</td>\n",
       "      <td>-79.160497</td>\n",
       "    </tr>\n",
       "    <tr>\n",
       "      <td>2</td>\n",
       "      <td>M1E</td>\n",
       "      <td>43.763573</td>\n",
       "      <td>-79.188711</td>\n",
       "    </tr>\n",
       "  </tbody>\n",
       "</table>\n",
       "</div>"
      ],
      "text/plain": [
       "  Postal Code   Latitude  Longitude\n",
       "0         M1B  43.806686 -79.194353\n",
       "1         M1C  43.784535 -79.160497\n",
       "2         M1E  43.763573 -79.188711"
      ]
     },
     "execution_count": 23,
     "metadata": {},
     "output_type": "execute_result"
    }
   ],
   "source": [
    "df_coordinates.head(3)"
   ]
  },
  {
   "cell_type": "code",
   "execution_count": 24,
   "metadata": {
    "ExecuteTime": {
     "end_time": "2019-12-14T20:42:15.238856Z",
     "start_time": "2019-12-14T20:42:15.224367Z"
    }
   },
   "outputs": [
    {
     "name": "stdout",
     "output_type": "stream",
     "text": [
      "<class 'pandas.core.frame.DataFrame'>\n",
      "RangeIndex: 103 entries, 0 to 102\n",
      "Data columns (total 3 columns):\n",
      "Postal Code    103 non-null object\n",
      "Latitude       103 non-null float64\n",
      "Longitude      103 non-null float64\n",
      "dtypes: float64(2), object(1)\n",
      "memory usage: 2.5+ KB\n"
     ]
    }
   ],
   "source": [
    "df_coordinates.info()"
   ]
  },
  {
   "cell_type": "markdown",
   "metadata": {},
   "source": [
    "## Merging two dataframes"
   ]
  },
  {
   "cell_type": "code",
   "execution_count": 25,
   "metadata": {
    "ExecuteTime": {
     "end_time": "2019-12-14T20:42:15.359295Z",
     "start_time": "2019-12-14T20:42:15.355719Z"
    }
   },
   "outputs": [
    {
     "data": {
      "text/plain": [
       "Index(['Postcode', 'Borough', 'Neighbourhood'], dtype='object')"
      ]
     },
     "execution_count": 25,
     "metadata": {},
     "output_type": "execute_result"
    }
   ],
   "source": [
    "# List of columns in dataframe df_combine\n",
    "df_combine.columns"
   ]
  },
  {
   "cell_type": "code",
   "execution_count": 26,
   "metadata": {
    "ExecuteTime": {
     "end_time": "2019-12-14T20:42:15.376995Z",
     "start_time": "2019-12-14T20:42:15.362659Z"
    }
   },
   "outputs": [
    {
     "data": {
      "text/plain": [
       "Index(['Postal Code', 'Latitude', 'Longitude'], dtype='object')"
      ]
     },
     "execution_count": 26,
     "metadata": {},
     "output_type": "execute_result"
    }
   ],
   "source": [
    "# List of columns in dataframe coordinates\n",
    "df_coordinates.columns"
   ]
  },
  {
   "cell_type": "code",
   "execution_count": 27,
   "metadata": {
    "ExecuteTime": {
     "end_time": "2019-12-14T20:42:15.394654Z",
     "start_time": "2019-12-14T20:42:15.378589Z"
    }
   },
   "outputs": [],
   "source": [
    "df_merged = pd.merge(df_combine, df_coordinates, \n",
    "                     left_on=COL_NAME_POSTCODE, right_on=COL_NAME_POSTAL_CODE,\n",
    "                     how=\"inner\")"
   ]
  },
  {
   "cell_type": "markdown",
   "metadata": {},
   "source": [
    "Quickly examine the resulting dataframe."
   ]
  },
  {
   "cell_type": "code",
   "execution_count": 28,
   "metadata": {
    "ExecuteTime": {
     "end_time": "2019-12-14T20:42:15.526953Z",
     "start_time": "2019-12-14T20:42:15.523283Z"
    }
   },
   "outputs": [
    {
     "data": {
      "text/plain": [
       "Index(['Postcode', 'Borough', 'Neighbourhood', 'Postal Code', 'Latitude',\n",
       "       'Longitude'],\n",
       "      dtype='object')"
      ]
     },
     "execution_count": 28,
     "metadata": {},
     "output_type": "execute_result"
    }
   ],
   "source": [
    "df_merged.columns"
   ]
  },
  {
   "cell_type": "code",
   "execution_count": 29,
   "metadata": {
    "ExecuteTime": {
     "end_time": "2019-12-14T20:42:15.544069Z",
     "start_time": "2019-12-14T20:42:15.530501Z"
    }
   },
   "outputs": [
    {
     "name": "stdout",
     "output_type": "stream",
     "text": [
      "<class 'pandas.core.frame.DataFrame'>\n",
      "Int64Index: 103 entries, 0 to 102\n",
      "Data columns (total 6 columns):\n",
      "Postcode         103 non-null object\n",
      "Borough          103 non-null object\n",
      "Neighbourhood    103 non-null object\n",
      "Postal Code      103 non-null object\n",
      "Latitude         103 non-null float64\n",
      "Longitude        103 non-null float64\n",
      "dtypes: float64(2), object(4)\n",
      "memory usage: 5.6+ KB\n"
     ]
    }
   ],
   "source": [
    "df_merged.info()"
   ]
  },
  {
   "cell_type": "code",
   "execution_count": 30,
   "metadata": {
    "ExecuteTime": {
     "end_time": "2019-12-14T20:42:15.567828Z",
     "start_time": "2019-12-14T20:42:15.545594Z"
    }
   },
   "outputs": [
    {
     "data": {
      "text/html": [
       "<div>\n",
       "<style scoped>\n",
       "    .dataframe tbody tr th:only-of-type {\n",
       "        vertical-align: middle;\n",
       "    }\n",
       "\n",
       "    .dataframe tbody tr th {\n",
       "        vertical-align: top;\n",
       "    }\n",
       "\n",
       "    .dataframe thead th {\n",
       "        text-align: right;\n",
       "    }\n",
       "</style>\n",
       "<table border=\"1\" class=\"dataframe\">\n",
       "  <thead>\n",
       "    <tr style=\"text-align: right;\">\n",
       "      <th></th>\n",
       "      <th>Postcode</th>\n",
       "      <th>Borough</th>\n",
       "      <th>Neighbourhood</th>\n",
       "      <th>Postal Code</th>\n",
       "      <th>Latitude</th>\n",
       "      <th>Longitude</th>\n",
       "    </tr>\n",
       "  </thead>\n",
       "  <tbody>\n",
       "    <tr>\n",
       "      <td>0</td>\n",
       "      <td>M1B</td>\n",
       "      <td>Scarborough</td>\n",
       "      <td>Rouge,Malvern</td>\n",
       "      <td>M1B</td>\n",
       "      <td>43.806686</td>\n",
       "      <td>-79.194353</td>\n",
       "    </tr>\n",
       "    <tr>\n",
       "      <td>1</td>\n",
       "      <td>M1C</td>\n",
       "      <td>Scarborough</td>\n",
       "      <td>Highland Creek,Rouge Hill,Port Union</td>\n",
       "      <td>M1C</td>\n",
       "      <td>43.784535</td>\n",
       "      <td>-79.160497</td>\n",
       "    </tr>\n",
       "    <tr>\n",
       "      <td>2</td>\n",
       "      <td>M1E</td>\n",
       "      <td>Scarborough</td>\n",
       "      <td>Guildwood,Morningside,West Hill</td>\n",
       "      <td>M1E</td>\n",
       "      <td>43.763573</td>\n",
       "      <td>-79.188711</td>\n",
       "    </tr>\n",
       "    <tr>\n",
       "      <td>3</td>\n",
       "      <td>M1G</td>\n",
       "      <td>Scarborough</td>\n",
       "      <td>Woburn</td>\n",
       "      <td>M1G</td>\n",
       "      <td>43.770992</td>\n",
       "      <td>-79.216917</td>\n",
       "    </tr>\n",
       "    <tr>\n",
       "      <td>4</td>\n",
       "      <td>M1H</td>\n",
       "      <td>Scarborough</td>\n",
       "      <td>Cedarbrae</td>\n",
       "      <td>M1H</td>\n",
       "      <td>43.773136</td>\n",
       "      <td>-79.239476</td>\n",
       "    </tr>\n",
       "    <tr>\n",
       "      <td>...</td>\n",
       "      <td>...</td>\n",
       "      <td>...</td>\n",
       "      <td>...</td>\n",
       "      <td>...</td>\n",
       "      <td>...</td>\n",
       "      <td>...</td>\n",
       "    </tr>\n",
       "    <tr>\n",
       "      <td>98</td>\n",
       "      <td>M9N</td>\n",
       "      <td>York</td>\n",
       "      <td>Weston</td>\n",
       "      <td>M9N</td>\n",
       "      <td>43.706876</td>\n",
       "      <td>-79.518188</td>\n",
       "    </tr>\n",
       "    <tr>\n",
       "      <td>99</td>\n",
       "      <td>M9P</td>\n",
       "      <td>Etobicoke</td>\n",
       "      <td>Westmount</td>\n",
       "      <td>M9P</td>\n",
       "      <td>43.696319</td>\n",
       "      <td>-79.532242</td>\n",
       "    </tr>\n",
       "    <tr>\n",
       "      <td>100</td>\n",
       "      <td>M9R</td>\n",
       "      <td>Etobicoke</td>\n",
       "      <td>Kingsview Village,Martin Grove Gardens,Richvie...</td>\n",
       "      <td>M9R</td>\n",
       "      <td>43.688905</td>\n",
       "      <td>-79.554724</td>\n",
       "    </tr>\n",
       "    <tr>\n",
       "      <td>101</td>\n",
       "      <td>M9V</td>\n",
       "      <td>Etobicoke</td>\n",
       "      <td>Albion Gardens,Beaumond Heights,Humbergate,Jam...</td>\n",
       "      <td>M9V</td>\n",
       "      <td>43.739416</td>\n",
       "      <td>-79.588437</td>\n",
       "    </tr>\n",
       "    <tr>\n",
       "      <td>102</td>\n",
       "      <td>M9W</td>\n",
       "      <td>Etobicoke</td>\n",
       "      <td>Northwest</td>\n",
       "      <td>M9W</td>\n",
       "      <td>43.706748</td>\n",
       "      <td>-79.594054</td>\n",
       "    </tr>\n",
       "  </tbody>\n",
       "</table>\n",
       "<p>103 rows × 6 columns</p>\n",
       "</div>"
      ],
      "text/plain": [
       "    Postcode      Borough                                      Neighbourhood  \\\n",
       "0        M1B  Scarborough                                      Rouge,Malvern   \n",
       "1        M1C  Scarborough               Highland Creek,Rouge Hill,Port Union   \n",
       "2        M1E  Scarborough                    Guildwood,Morningside,West Hill   \n",
       "3        M1G  Scarborough                                             Woburn   \n",
       "4        M1H  Scarborough                                          Cedarbrae   \n",
       "..       ...          ...                                                ...   \n",
       "98       M9N         York                                             Weston   \n",
       "99       M9P    Etobicoke                                          Westmount   \n",
       "100      M9R    Etobicoke  Kingsview Village,Martin Grove Gardens,Richvie...   \n",
       "101      M9V    Etobicoke  Albion Gardens,Beaumond Heights,Humbergate,Jam...   \n",
       "102      M9W    Etobicoke                                          Northwest   \n",
       "\n",
       "    Postal Code   Latitude  Longitude  \n",
       "0           M1B  43.806686 -79.194353  \n",
       "1           M1C  43.784535 -79.160497  \n",
       "2           M1E  43.763573 -79.188711  \n",
       "3           M1G  43.770992 -79.216917  \n",
       "4           M1H  43.773136 -79.239476  \n",
       "..          ...        ...        ...  \n",
       "98          M9N  43.706876 -79.518188  \n",
       "99          M9P  43.696319 -79.532242  \n",
       "100         M9R  43.688905 -79.554724  \n",
       "101         M9V  43.739416 -79.588437  \n",
       "102         M9W  43.706748 -79.594054  \n",
       "\n",
       "[103 rows x 6 columns]"
      ]
     },
     "execution_count": 30,
     "metadata": {},
     "output_type": "execute_result"
    }
   ],
   "source": [
    "df_merged"
   ]
  },
  {
   "cell_type": "markdown",
   "metadata": {},
   "source": [
    "## Removing column \"Postal Code\""
   ]
  },
  {
   "cell_type": "code",
   "execution_count": 31,
   "metadata": {
    "ExecuteTime": {
     "end_time": "2019-12-14T20:42:15.701359Z",
     "start_time": "2019-12-14T20:42:15.697886Z"
    }
   },
   "outputs": [],
   "source": [
    "df_merged.drop([COL_NAME_POSTAL_CODE], axis=1, inplace=True)"
   ]
  },
  {
   "cell_type": "code",
   "execution_count": 32,
   "metadata": {
    "ExecuteTime": {
     "end_time": "2019-12-14T20:42:15.727307Z",
     "start_time": "2019-12-14T20:42:15.704666Z"
    },
    "scrolled": true
   },
   "outputs": [
    {
     "data": {
      "text/html": [
       "<div>\n",
       "<style scoped>\n",
       "    .dataframe tbody tr th:only-of-type {\n",
       "        vertical-align: middle;\n",
       "    }\n",
       "\n",
       "    .dataframe tbody tr th {\n",
       "        vertical-align: top;\n",
       "    }\n",
       "\n",
       "    .dataframe thead th {\n",
       "        text-align: right;\n",
       "    }\n",
       "</style>\n",
       "<table border=\"1\" class=\"dataframe\">\n",
       "  <thead>\n",
       "    <tr style=\"text-align: right;\">\n",
       "      <th></th>\n",
       "      <th>Postcode</th>\n",
       "      <th>Borough</th>\n",
       "      <th>Neighbourhood</th>\n",
       "      <th>Latitude</th>\n",
       "      <th>Longitude</th>\n",
       "    </tr>\n",
       "  </thead>\n",
       "  <tbody>\n",
       "    <tr>\n",
       "      <td>0</td>\n",
       "      <td>M1B</td>\n",
       "      <td>Scarborough</td>\n",
       "      <td>Rouge,Malvern</td>\n",
       "      <td>43.806686</td>\n",
       "      <td>-79.194353</td>\n",
       "    </tr>\n",
       "    <tr>\n",
       "      <td>1</td>\n",
       "      <td>M1C</td>\n",
       "      <td>Scarborough</td>\n",
       "      <td>Highland Creek,Rouge Hill,Port Union</td>\n",
       "      <td>43.784535</td>\n",
       "      <td>-79.160497</td>\n",
       "    </tr>\n",
       "    <tr>\n",
       "      <td>2</td>\n",
       "      <td>M1E</td>\n",
       "      <td>Scarborough</td>\n",
       "      <td>Guildwood,Morningside,West Hill</td>\n",
       "      <td>43.763573</td>\n",
       "      <td>-79.188711</td>\n",
       "    </tr>\n",
       "    <tr>\n",
       "      <td>3</td>\n",
       "      <td>M1G</td>\n",
       "      <td>Scarborough</td>\n",
       "      <td>Woburn</td>\n",
       "      <td>43.770992</td>\n",
       "      <td>-79.216917</td>\n",
       "    </tr>\n",
       "    <tr>\n",
       "      <td>4</td>\n",
       "      <td>M1H</td>\n",
       "      <td>Scarborough</td>\n",
       "      <td>Cedarbrae</td>\n",
       "      <td>43.773136</td>\n",
       "      <td>-79.239476</td>\n",
       "    </tr>\n",
       "    <tr>\n",
       "      <td>...</td>\n",
       "      <td>...</td>\n",
       "      <td>...</td>\n",
       "      <td>...</td>\n",
       "      <td>...</td>\n",
       "      <td>...</td>\n",
       "    </tr>\n",
       "    <tr>\n",
       "      <td>98</td>\n",
       "      <td>M9N</td>\n",
       "      <td>York</td>\n",
       "      <td>Weston</td>\n",
       "      <td>43.706876</td>\n",
       "      <td>-79.518188</td>\n",
       "    </tr>\n",
       "    <tr>\n",
       "      <td>99</td>\n",
       "      <td>M9P</td>\n",
       "      <td>Etobicoke</td>\n",
       "      <td>Westmount</td>\n",
       "      <td>43.696319</td>\n",
       "      <td>-79.532242</td>\n",
       "    </tr>\n",
       "    <tr>\n",
       "      <td>100</td>\n",
       "      <td>M9R</td>\n",
       "      <td>Etobicoke</td>\n",
       "      <td>Kingsview Village,Martin Grove Gardens,Richvie...</td>\n",
       "      <td>43.688905</td>\n",
       "      <td>-79.554724</td>\n",
       "    </tr>\n",
       "    <tr>\n",
       "      <td>101</td>\n",
       "      <td>M9V</td>\n",
       "      <td>Etobicoke</td>\n",
       "      <td>Albion Gardens,Beaumond Heights,Humbergate,Jam...</td>\n",
       "      <td>43.739416</td>\n",
       "      <td>-79.588437</td>\n",
       "    </tr>\n",
       "    <tr>\n",
       "      <td>102</td>\n",
       "      <td>M9W</td>\n",
       "      <td>Etobicoke</td>\n",
       "      <td>Northwest</td>\n",
       "      <td>43.706748</td>\n",
       "      <td>-79.594054</td>\n",
       "    </tr>\n",
       "  </tbody>\n",
       "</table>\n",
       "<p>103 rows × 5 columns</p>\n",
       "</div>"
      ],
      "text/plain": [
       "    Postcode      Borough                                      Neighbourhood  \\\n",
       "0        M1B  Scarborough                                      Rouge,Malvern   \n",
       "1        M1C  Scarborough               Highland Creek,Rouge Hill,Port Union   \n",
       "2        M1E  Scarborough                    Guildwood,Morningside,West Hill   \n",
       "3        M1G  Scarborough                                             Woburn   \n",
       "4        M1H  Scarborough                                          Cedarbrae   \n",
       "..       ...          ...                                                ...   \n",
       "98       M9N         York                                             Weston   \n",
       "99       M9P    Etobicoke                                          Westmount   \n",
       "100      M9R    Etobicoke  Kingsview Village,Martin Grove Gardens,Richvie...   \n",
       "101      M9V    Etobicoke  Albion Gardens,Beaumond Heights,Humbergate,Jam...   \n",
       "102      M9W    Etobicoke                                          Northwest   \n",
       "\n",
       "      Latitude  Longitude  \n",
       "0    43.806686 -79.194353  \n",
       "1    43.784535 -79.160497  \n",
       "2    43.763573 -79.188711  \n",
       "3    43.770992 -79.216917  \n",
       "4    43.773136 -79.239476  \n",
       "..         ...        ...  \n",
       "98   43.706876 -79.518188  \n",
       "99   43.696319 -79.532242  \n",
       "100  43.688905 -79.554724  \n",
       "101  43.739416 -79.588437  \n",
       "102  43.706748 -79.594054  \n",
       "\n",
       "[103 rows x 5 columns]"
      ]
     },
     "execution_count": 32,
     "metadata": {},
     "output_type": "execute_result"
    }
   ],
   "source": [
    "df_merged"
   ]
  },
  {
   "cell_type": "markdown",
   "metadata": {},
   "source": [
    "## Getting the size of merged dataframe"
   ]
  },
  {
   "cell_type": "code",
   "execution_count": 33,
   "metadata": {
    "ExecuteTime": {
     "end_time": "2019-12-14T20:42:15.871629Z",
     "start_time": "2019-12-14T20:42:15.868824Z"
    }
   },
   "outputs": [
    {
     "name": "stdout",
     "output_type": "stream",
     "text": [
      "(row, column) = (103, 5)\n"
     ]
    }
   ],
   "source": [
    "print(\"(row, column) = %s\" % str(df_merged.shape))"
   ]
  },
  {
   "cell_type": "markdown",
   "metadata": {},
   "source": [
    "## Verifying the result with given list of Postcode "
   ]
  },
  {
   "cell_type": "code",
   "execution_count": 34,
   "metadata": {
    "ExecuteTime": {
     "end_time": "2019-12-14T20:42:16.044192Z",
     "start_time": "2019-12-14T20:42:16.033280Z"
    }
   },
   "outputs": [
    {
     "data": {
      "text/html": [
       "<div>\n",
       "<style scoped>\n",
       "    .dataframe tbody tr th:only-of-type {\n",
       "        vertical-align: middle;\n",
       "    }\n",
       "\n",
       "    .dataframe tbody tr th {\n",
       "        vertical-align: top;\n",
       "    }\n",
       "\n",
       "    .dataframe thead th {\n",
       "        text-align: right;\n",
       "    }\n",
       "</style>\n",
       "<table border=\"1\" class=\"dataframe\">\n",
       "  <thead>\n",
       "    <tr style=\"text-align: right;\">\n",
       "      <th></th>\n",
       "      <th>Postcode</th>\n",
       "      <th>Borough</th>\n",
       "      <th>Neighbourhood</th>\n",
       "      <th>Latitude</th>\n",
       "      <th>Longitude</th>\n",
       "    </tr>\n",
       "  </thead>\n",
       "  <tbody>\n",
       "    <tr>\n",
       "      <td>0</td>\n",
       "      <td>M1B</td>\n",
       "      <td>Scarborough</td>\n",
       "      <td>Rouge,Malvern</td>\n",
       "      <td>43.806686</td>\n",
       "      <td>-79.194353</td>\n",
       "    </tr>\n",
       "    <tr>\n",
       "      <td>1</td>\n",
       "      <td>M1J</td>\n",
       "      <td>Scarborough</td>\n",
       "      <td>Scarborough Village</td>\n",
       "      <td>43.744734</td>\n",
       "      <td>-79.239476</td>\n",
       "    </tr>\n",
       "    <tr>\n",
       "      <td>2</td>\n",
       "      <td>M1R</td>\n",
       "      <td>Scarborough</td>\n",
       "      <td>Maryvale,Wexford</td>\n",
       "      <td>43.750072</td>\n",
       "      <td>-79.295849</td>\n",
       "    </tr>\n",
       "    <tr>\n",
       "      <td>3</td>\n",
       "      <td>M2H</td>\n",
       "      <td>North York</td>\n",
       "      <td>Hillcrest Village</td>\n",
       "      <td>43.803762</td>\n",
       "      <td>-79.363452</td>\n",
       "    </tr>\n",
       "    <tr>\n",
       "      <td>4</td>\n",
       "      <td>M4B</td>\n",
       "      <td>East York</td>\n",
       "      <td>Woodbine Gardens,Parkview Hill</td>\n",
       "      <td>43.706397</td>\n",
       "      <td>-79.309937</td>\n",
       "    </tr>\n",
       "    <tr>\n",
       "      <td>5</td>\n",
       "      <td>M4G</td>\n",
       "      <td>East York</td>\n",
       "      <td>Leaside</td>\n",
       "      <td>43.709060</td>\n",
       "      <td>-79.363452</td>\n",
       "    </tr>\n",
       "    <tr>\n",
       "      <td>6</td>\n",
       "      <td>M4M</td>\n",
       "      <td>East Toronto</td>\n",
       "      <td>Studio District</td>\n",
       "      <td>43.659526</td>\n",
       "      <td>-79.340923</td>\n",
       "    </tr>\n",
       "    <tr>\n",
       "      <td>7</td>\n",
       "      <td>M5A</td>\n",
       "      <td>Downtown Toronto</td>\n",
       "      <td>Harbourfront</td>\n",
       "      <td>43.654260</td>\n",
       "      <td>-79.360636</td>\n",
       "    </tr>\n",
       "    <tr>\n",
       "      <td>8</td>\n",
       "      <td>M5G</td>\n",
       "      <td>Downtown Toronto</td>\n",
       "      <td>Central Bay Street</td>\n",
       "      <td>43.657952</td>\n",
       "      <td>-79.387383</td>\n",
       "    </tr>\n",
       "    <tr>\n",
       "      <td>9</td>\n",
       "      <td>M5V</td>\n",
       "      <td>Downtown Toronto</td>\n",
       "      <td>CN Tower,Bathurst Quay,Island airport,Harbourf...</td>\n",
       "      <td>43.628947</td>\n",
       "      <td>-79.394420</td>\n",
       "    </tr>\n",
       "    <tr>\n",
       "      <td>10</td>\n",
       "      <td>M9L</td>\n",
       "      <td>North York</td>\n",
       "      <td>Humber Summit</td>\n",
       "      <td>43.756303</td>\n",
       "      <td>-79.565963</td>\n",
       "    </tr>\n",
       "    <tr>\n",
       "      <td>11</td>\n",
       "      <td>M9V</td>\n",
       "      <td>Etobicoke</td>\n",
       "      <td>Albion Gardens,Beaumond Heights,Humbergate,Jam...</td>\n",
       "      <td>43.739416</td>\n",
       "      <td>-79.588437</td>\n",
       "    </tr>\n",
       "  </tbody>\n",
       "</table>\n",
       "</div>"
      ],
      "text/plain": [
       "   Postcode           Borough  \\\n",
       "0       M1B       Scarborough   \n",
       "1       M1J       Scarborough   \n",
       "2       M1R       Scarborough   \n",
       "3       M2H        North York   \n",
       "4       M4B         East York   \n",
       "5       M4G         East York   \n",
       "6       M4M      East Toronto   \n",
       "7       M5A  Downtown Toronto   \n",
       "8       M5G  Downtown Toronto   \n",
       "9       M5V  Downtown Toronto   \n",
       "10      M9L        North York   \n",
       "11      M9V         Etobicoke   \n",
       "\n",
       "                                        Neighbourhood   Latitude  Longitude  \n",
       "0                                       Rouge,Malvern  43.806686 -79.194353  \n",
       "1                                 Scarborough Village  43.744734 -79.239476  \n",
       "2                                    Maryvale,Wexford  43.750072 -79.295849  \n",
       "3                                   Hillcrest Village  43.803762 -79.363452  \n",
       "4                      Woodbine Gardens,Parkview Hill  43.706397 -79.309937  \n",
       "5                                             Leaside  43.709060 -79.363452  \n",
       "6                                     Studio District  43.659526 -79.340923  \n",
       "7                                        Harbourfront  43.654260 -79.360636  \n",
       "8                                  Central Bay Street  43.657952 -79.387383  \n",
       "9   CN Tower,Bathurst Quay,Island airport,Harbourf...  43.628947 -79.394420  \n",
       "10                                      Humber Summit  43.756303 -79.565963  \n",
       "11  Albion Gardens,Beaumond Heights,Humbergate,Jam...  43.739416 -79.588437  "
      ]
     },
     "execution_count": 34,
     "metadata": {},
     "output_type": "execute_result"
    }
   ],
   "source": [
    "df_result = df_merged[df_merged[COL_NAME_POSTCODE].isin([\"M5G\", \"M2H\", \"M4B\", \n",
    "                                                         \"M1J\", \"M4G\", \"M4M\", \n",
    "                                                         \"M1R\", \"M9V\", \"M9L\", \n",
    "                                                         \"M5V\", \"M1B\", \"M5A\"])]\n",
    "df_result.reset_index(drop=True)"
   ]
  },
  {
   "cell_type": "code",
   "execution_count": 35,
   "metadata": {
    "ExecuteTime": {
     "end_time": "2019-12-14T20:42:16.061762Z",
     "start_time": "2019-12-14T20:42:16.045767Z"
    }
   },
   "outputs": [
    {
     "data": {
      "text/plain": [
       "Index(['Postcode', 'Borough', 'Neighbourhood', 'Latitude', 'Longitude'], dtype='object')"
      ]
     },
     "execution_count": 35,
     "metadata": {},
     "output_type": "execute_result"
    }
   ],
   "source": [
    "df_result.columns"
   ]
  },
  {
   "cell_type": "markdown",
   "metadata": {},
   "source": [
    "# Exploring and clustering the neighborhoods in Toronto\n",
    "\n",
    "We can decide to work with only boroughs that contain the word Toronto and then replicate the same analysis we did to the New York City data.\n",
    "\n",
    "Just make sure:\n",
    "\n",
    "1. to add enough Markdown cells to explain what we decided to do and to report any observations we make.\n",
    "\n",
    "2. to generate maps to visualize our neighborhoods and how they cluster together. "
   ]
  },
  {
   "cell_type": "markdown",
   "metadata": {},
   "source": [
    "## Listing distinct boroughs"
   ]
  },
  {
   "cell_type": "code",
   "execution_count": 36,
   "metadata": {
    "ExecuteTime": {
     "end_time": "2019-12-14T20:42:16.397446Z",
     "start_time": "2019-12-14T20:42:16.393372Z"
    }
   },
   "outputs": [
    {
     "data": {
      "text/plain": [
       "array(['Scarborough', 'North York', 'East York', 'East Toronto',\n",
       "       'Central Toronto', 'Downtown Toronto', 'York', 'West Toronto',\n",
       "       \"Queen's Park\", 'Mississauga', 'Etobicoke'], dtype=object)"
      ]
     },
     "execution_count": 36,
     "metadata": {},
     "output_type": "execute_result"
    }
   ],
   "source": [
    "df_merged[COL_NAME_BOROUGH].unique()"
   ]
  },
  {
   "cell_type": "code",
   "execution_count": 37,
   "metadata": {
    "ExecuteTime": {
     "end_time": "2019-12-14T20:42:16.416864Z",
     "start_time": "2019-12-14T20:42:16.400976Z"
    }
   },
   "outputs": [
    {
     "name": "stdout",
     "output_type": "stream",
     "text": [
      "(row, column) = (103, 5)\n"
     ]
    }
   ],
   "source": [
    "print(\"(row, column) = %s\" % str(df_merged.shape))"
   ]
  },
  {
   "cell_type": "markdown",
   "metadata": {},
   "source": [
    "## Filtering by  boroughs that contain the word Toronto"
   ]
  },
  {
   "cell_type": "code",
   "execution_count": 38,
   "metadata": {
    "ExecuteTime": {
     "end_time": "2019-12-14T20:42:16.579159Z",
     "start_time": "2019-12-14T20:42:16.575107Z"
    }
   },
   "outputs": [],
   "source": [
    "CONST_BOROUGH_TORONTO = \"Toronto\"\n",
    "df = df_merged[df_merged[COL_NAME_BOROUGH].str.contains(CONST_BOROUGH_TORONTO, case=False, regex=False)]"
   ]
  },
  {
   "cell_type": "markdown",
   "metadata": {},
   "source": [
    "Quickly examine the resulting dataframe."
   ]
  },
  {
   "cell_type": "code",
   "execution_count": 39,
   "metadata": {
    "ExecuteTime": {
     "end_time": "2019-12-14T20:42:16.752098Z",
     "start_time": "2019-12-14T20:42:16.749004Z"
    }
   },
   "outputs": [
    {
     "name": "stdout",
     "output_type": "stream",
     "text": [
      "(row, column) = (39, 5)\n"
     ]
    }
   ],
   "source": [
    "print(\"(row, column) = %s\" % str(df.shape))"
   ]
  },
  {
   "cell_type": "code",
   "execution_count": 40,
   "metadata": {
    "ExecuteTime": {
     "end_time": "2019-12-14T20:42:16.773184Z",
     "start_time": "2019-12-14T20:42:16.755661Z"
    }
   },
   "outputs": [
    {
     "name": "stdout",
     "output_type": "stream",
     "text": [
      "<class 'pandas.core.frame.DataFrame'>\n",
      "Int64Index: 39 entries, 37 to 93\n",
      "Data columns (total 5 columns):\n",
      "Postcode         39 non-null object\n",
      "Borough          39 non-null object\n",
      "Neighbourhood    39 non-null object\n",
      "Latitude         39 non-null float64\n",
      "Longitude        39 non-null float64\n",
      "dtypes: float64(2), object(3)\n",
      "memory usage: 1.8+ KB\n"
     ]
    }
   ],
   "source": [
    "df.info()"
   ]
  },
  {
   "cell_type": "code",
   "execution_count": 41,
   "metadata": {
    "ExecuteTime": {
     "end_time": "2019-12-14T20:42:16.793149Z",
     "start_time": "2019-12-14T20:42:16.774779Z"
    }
   },
   "outputs": [
    {
     "data": {
      "text/html": [
       "<div>\n",
       "<style scoped>\n",
       "    .dataframe tbody tr th:only-of-type {\n",
       "        vertical-align: middle;\n",
       "    }\n",
       "\n",
       "    .dataframe tbody tr th {\n",
       "        vertical-align: top;\n",
       "    }\n",
       "\n",
       "    .dataframe thead th {\n",
       "        text-align: right;\n",
       "    }\n",
       "</style>\n",
       "<table border=\"1\" class=\"dataframe\">\n",
       "  <thead>\n",
       "    <tr style=\"text-align: right;\">\n",
       "      <th></th>\n",
       "      <th>Postcode</th>\n",
       "      <th>Borough</th>\n",
       "      <th>Neighbourhood</th>\n",
       "      <th>Latitude</th>\n",
       "      <th>Longitude</th>\n",
       "    </tr>\n",
       "  </thead>\n",
       "  <tbody>\n",
       "    <tr>\n",
       "      <td>37</td>\n",
       "      <td>M4E</td>\n",
       "      <td>East Toronto</td>\n",
       "      <td>The Beaches</td>\n",
       "      <td>43.676357</td>\n",
       "      <td>-79.293031</td>\n",
       "    </tr>\n",
       "    <tr>\n",
       "      <td>41</td>\n",
       "      <td>M4K</td>\n",
       "      <td>East Toronto</td>\n",
       "      <td>The Danforth West,Riverdale</td>\n",
       "      <td>43.679557</td>\n",
       "      <td>-79.352188</td>\n",
       "    </tr>\n",
       "    <tr>\n",
       "      <td>42</td>\n",
       "      <td>M4L</td>\n",
       "      <td>East Toronto</td>\n",
       "      <td>The Beaches West,India Bazaar</td>\n",
       "      <td>43.668999</td>\n",
       "      <td>-79.315572</td>\n",
       "    </tr>\n",
       "  </tbody>\n",
       "</table>\n",
       "</div>"
      ],
      "text/plain": [
       "   Postcode       Borough                  Neighbourhood   Latitude  Longitude\n",
       "37      M4E  East Toronto                    The Beaches  43.676357 -79.293031\n",
       "41      M4K  East Toronto    The Danforth West,Riverdale  43.679557 -79.352188\n",
       "42      M4L  East Toronto  The Beaches West,India Bazaar  43.668999 -79.315572"
      ]
     },
     "execution_count": 41,
     "metadata": {},
     "output_type": "execute_result"
    }
   ],
   "source": [
    "df.head(3)"
   ]
  },
  {
   "cell_type": "code",
   "execution_count": 42,
   "metadata": {
    "ExecuteTime": {
     "end_time": "2019-12-14T20:42:16.809974Z",
     "start_time": "2019-12-14T20:42:16.795052Z"
    }
   },
   "outputs": [
    {
     "data": {
      "text/plain": [
       "array(['East Toronto', 'Central Toronto', 'Downtown Toronto',\n",
       "       'West Toronto'], dtype=object)"
      ]
     },
     "execution_count": 42,
     "metadata": {},
     "output_type": "execute_result"
    }
   ],
   "source": [
    "# Listing distinct borough\n",
    "df[COL_NAME_BOROUGH].unique()"
   ]
  },
  {
   "cell_type": "code",
   "execution_count": 43,
   "metadata": {
    "ExecuteTime": {
     "end_time": "2019-12-14T20:42:16.825523Z",
     "start_time": "2019-12-14T20:42:16.811467Z"
    }
   },
   "outputs": [
    {
     "name": "stdout",
     "output_type": "stream",
     "text": [
      "The dataframe has 4 boroughs and 39 neighborhoods.\n"
     ]
    }
   ],
   "source": [
    "print('The dataframe has {} boroughs and {} neighborhoods.'.format(\n",
    "      len(df[COL_NAME_BOROUGH].unique()),\n",
    "      df.shape[0]))"
   ]
  },
  {
   "cell_type": "markdown",
   "metadata": {},
   "source": [
    "## Using geopy library to get the latitude and longitude values of Toronto\n",
    "\n",
    "In order to define an instance of the geocoder, we need to define a user_agent. We will name our agent <em>toronto_explorer</em>, as shown below."
   ]
  },
  {
   "cell_type": "code",
   "execution_count": 44,
   "metadata": {
    "ExecuteTime": {
     "end_time": "2019-12-14T20:42:17.240689Z",
     "start_time": "2019-12-14T20:42:16.961264Z"
    }
   },
   "outputs": [
    {
     "name": "stdout",
     "output_type": "stream",
     "text": [
      "The geograpical coordinate of Toronto are 43.653963, -79.387207.\n"
     ]
    }
   ],
   "source": [
    "from geopy.geocoders import Nominatim # convert an address into latitude and longitude values\n",
    "\n",
    "address = 'Toronto, CA'\n",
    "\n",
    "geolocator = Nominatim(user_agent=\"toronto_explorer\")\n",
    "location = geolocator.geocode(address)\n",
    "latitude = location.latitude\n",
    "longitude = location.longitude\n",
    "print('The geograpical coordinate of Toronto are {}, {}.'.format(latitude, longitude))"
   ]
  },
  {
   "cell_type": "markdown",
   "metadata": {},
   "source": [
    "## Creating a map of Toronto with neighborhoods superimposed on top"
   ]
  },
  {
   "cell_type": "code",
   "execution_count": 45,
   "metadata": {
    "ExecuteTime": {
     "end_time": "2019-12-14T20:42:17.245748Z",
     "start_time": "2019-12-14T20:42:17.242465Z"
    }
   },
   "outputs": [
    {
     "data": {
      "text/plain": [
       "Index(['Postcode', 'Borough', 'Neighbourhood', 'Latitude', 'Longitude'], dtype='object')"
      ]
     },
     "execution_count": 45,
     "metadata": {},
     "output_type": "execute_result"
    }
   ],
   "source": [
    "# List of columns\n",
    "df.columns"
   ]
  },
  {
   "cell_type": "code",
   "execution_count": 46,
   "metadata": {
    "ExecuteTime": {
     "end_time": "2019-12-14T20:42:17.694858Z",
     "start_time": "2019-12-14T20:42:17.247441Z"
    }
   },
   "outputs": [
    {
     "data": {
      "text/html": [
       "<div style=\"width:100%;\"><div style=\"position:relative;width:100%;height:0;padding-bottom:60%;\"><iframe src=\"data:text/html;charset=utf-8;base64,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\" style=\"position:absolute;width:100%;height:100%;left:0;top:0;border:none !important;\" allowfullscreen webkitallowfullscreen mozallowfullscreen></iframe></div></div>"
      ],
      "text/plain": [
       "<folium.folium.Map at 0x7ff5fe25c320>"
      ]
     },
     "execution_count": 46,
     "metadata": {},
     "output_type": "execute_result"
    }
   ],
   "source": [
    "import folium\n",
    "\n",
    "# create map of Toronto using latitude and longitude values\n",
    "m = folium.Map(location=[latitude, longitude], zoom_start=10)\n",
    "\n",
    "# add markers to map\n",
    "for lat, lng, borough, neighborhood in zip(df[COL_NAME_LATITUDE], \n",
    "                                           df[COL_NAME_LONGITUDE], \n",
    "                                           df[COL_NAME_BOROUGH], \n",
    "                                           df[COL_NAME_NEIGHBOURHOOD]):\n",
    "    label = '{}, {}'.format(neighborhood, borough)\n",
    "    label = folium.Popup(label, parse_html=True)\n",
    "    folium.CircleMarker(\n",
    "        [lat, lng],\n",
    "        radius=5,\n",
    "        popup=label,\n",
    "        color='blue',\n",
    "        fill=True,\n",
    "        fill_color='#3186cc',\n",
    "        fill_opacity=0.7,\n",
    "        parse_html=False).add_to(m)  \n",
    "    \n",
    "m"
   ]
  },
  {
   "cell_type": "markdown",
   "metadata": {},
   "source": [
    "<img src=\"images/w3_h1.png\">"
   ]
  },
  {
   "cell_type": "markdown",
   "metadata": {},
   "source": [
    "## Creating a map of Central Toronto, Canada with neighborhoods superimposed on top\n",
    "\n",
    "However, for illustration purposes, let's simplify the above map and segment and cluster only the neighborhoods in **'Central Toronto'**. So let's slice the original dataframe and create a new dataframe of the **'Central Toronto'** data."
   ]
  },
  {
   "cell_type": "code",
   "execution_count": 47,
   "metadata": {
    "ExecuteTime": {
     "end_time": "2019-12-14T20:42:17.710115Z",
     "start_time": "2019-12-14T20:42:17.696876Z"
    }
   },
   "outputs": [
    {
     "data": {
      "text/html": [
       "<div>\n",
       "<style scoped>\n",
       "    .dataframe tbody tr th:only-of-type {\n",
       "        vertical-align: middle;\n",
       "    }\n",
       "\n",
       "    .dataframe tbody tr th {\n",
       "        vertical-align: top;\n",
       "    }\n",
       "\n",
       "    .dataframe thead th {\n",
       "        text-align: right;\n",
       "    }\n",
       "</style>\n",
       "<table border=\"1\" class=\"dataframe\">\n",
       "  <thead>\n",
       "    <tr style=\"text-align: right;\">\n",
       "      <th></th>\n",
       "      <th>Postcode</th>\n",
       "      <th>Borough</th>\n",
       "      <th>Neighbourhood</th>\n",
       "      <th>Latitude</th>\n",
       "      <th>Longitude</th>\n",
       "    </tr>\n",
       "  </thead>\n",
       "  <tbody>\n",
       "    <tr>\n",
       "      <td>0</td>\n",
       "      <td>M4N</td>\n",
       "      <td>Central Toronto</td>\n",
       "      <td>Lawrence Park</td>\n",
       "      <td>43.728020</td>\n",
       "      <td>-79.388790</td>\n",
       "    </tr>\n",
       "    <tr>\n",
       "      <td>1</td>\n",
       "      <td>M4P</td>\n",
       "      <td>Central Toronto</td>\n",
       "      <td>Davisville North</td>\n",
       "      <td>43.712751</td>\n",
       "      <td>-79.390197</td>\n",
       "    </tr>\n",
       "    <tr>\n",
       "      <td>2</td>\n",
       "      <td>M4R</td>\n",
       "      <td>Central Toronto</td>\n",
       "      <td>North Toronto West</td>\n",
       "      <td>43.715383</td>\n",
       "      <td>-79.405678</td>\n",
       "    </tr>\n",
       "    <tr>\n",
       "      <td>3</td>\n",
       "      <td>M4S</td>\n",
       "      <td>Central Toronto</td>\n",
       "      <td>Davisville</td>\n",
       "      <td>43.704324</td>\n",
       "      <td>-79.388790</td>\n",
       "    </tr>\n",
       "    <tr>\n",
       "      <td>4</td>\n",
       "      <td>M4T</td>\n",
       "      <td>Central Toronto</td>\n",
       "      <td>Moore Park,Summerhill East</td>\n",
       "      <td>43.689574</td>\n",
       "      <td>-79.383160</td>\n",
       "    </tr>\n",
       "    <tr>\n",
       "      <td>5</td>\n",
       "      <td>M4V</td>\n",
       "      <td>Central Toronto</td>\n",
       "      <td>Deer Park,Forest Hill SE,Rathnelly,South Hill,...</td>\n",
       "      <td>43.686412</td>\n",
       "      <td>-79.400049</td>\n",
       "    </tr>\n",
       "    <tr>\n",
       "      <td>6</td>\n",
       "      <td>M5N</td>\n",
       "      <td>Central Toronto</td>\n",
       "      <td>Roselawn</td>\n",
       "      <td>43.711695</td>\n",
       "      <td>-79.416936</td>\n",
       "    </tr>\n",
       "    <tr>\n",
       "      <td>7</td>\n",
       "      <td>M5P</td>\n",
       "      <td>Central Toronto</td>\n",
       "      <td>Forest Hill North,Forest Hill West</td>\n",
       "      <td>43.696948</td>\n",
       "      <td>-79.411307</td>\n",
       "    </tr>\n",
       "    <tr>\n",
       "      <td>8</td>\n",
       "      <td>M5R</td>\n",
       "      <td>Central Toronto</td>\n",
       "      <td>The Annex,North Midtown,Yorkville</td>\n",
       "      <td>43.672710</td>\n",
       "      <td>-79.405678</td>\n",
       "    </tr>\n",
       "  </tbody>\n",
       "</table>\n",
       "</div>"
      ],
      "text/plain": [
       "  Postcode          Borough  \\\n",
       "0      M4N  Central Toronto   \n",
       "1      M4P  Central Toronto   \n",
       "2      M4R  Central Toronto   \n",
       "3      M4S  Central Toronto   \n",
       "4      M4T  Central Toronto   \n",
       "5      M4V  Central Toronto   \n",
       "6      M5N  Central Toronto   \n",
       "7      M5P  Central Toronto   \n",
       "8      M5R  Central Toronto   \n",
       "\n",
       "                                       Neighbourhood   Latitude  Longitude  \n",
       "0                                      Lawrence Park  43.728020 -79.388790  \n",
       "1                                   Davisville North  43.712751 -79.390197  \n",
       "2                                 North Toronto West  43.715383 -79.405678  \n",
       "3                                         Davisville  43.704324 -79.388790  \n",
       "4                         Moore Park,Summerhill East  43.689574 -79.383160  \n",
       "5  Deer Park,Forest Hill SE,Rathnelly,South Hill,...  43.686412 -79.400049  \n",
       "6                                           Roselawn  43.711695 -79.416936  \n",
       "7                 Forest Hill North,Forest Hill West  43.696948 -79.411307  \n",
       "8                  The Annex,North Midtown,Yorkville  43.672710 -79.405678  "
      ]
     },
     "execution_count": 47,
     "metadata": {},
     "output_type": "execute_result"
    }
   ],
   "source": [
    "CONST_BOROUGH = \"Central Toronto\"\n",
    "df_central_toronto = df[df[COL_NAME_BOROUGH]==CONST_BOROUGH].reset_index(drop=True)\n",
    "df_central_toronto"
   ]
  },
  {
   "cell_type": "markdown",
   "metadata": {},
   "source": [
    "Let's get the geographical coordinates of **'Central Toronto', Canada**"
   ]
  },
  {
   "cell_type": "code",
   "execution_count": 48,
   "metadata": {
    "ExecuteTime": {
     "end_time": "2019-12-14T20:42:18.069349Z",
     "start_time": "2019-12-14T20:42:17.711804Z"
    }
   },
   "outputs": [
    {
     "name": "stdout",
     "output_type": "stream",
     "text": [
      "The geograpical coordinate of Central Toronto, CA are 43.653963, -79.387207.\n"
     ]
    }
   ],
   "source": [
    "address = 'Central Toronto, CA'\n",
    "\n",
    "geolocator = Nominatim(user_agent=\"toronto_explorer\")\n",
    "location = geolocator.geocode(address)\n",
    "latitude = location.latitude\n",
    "longitude = location.longitude\n",
    "print('The geograpical coordinate of Central Toronto, CA are {}, {}.'.format(latitude, longitude))"
   ]
  },
  {
   "cell_type": "markdown",
   "metadata": {},
   "source": [
    "As we did with all of Toronto, Canada, let's visualizat **Central Toronto** the neighborhoods in it."
   ]
  },
  {
   "cell_type": "code",
   "execution_count": 49,
   "metadata": {
    "ExecuteTime": {
     "end_time": "2019-12-14T20:42:18.109769Z",
     "start_time": "2019-12-14T20:42:18.071611Z"
    }
   },
   "outputs": [
    {
     "data": {
      "text/html": [
       "<div style=\"width:100%;\"><div style=\"position:relative;width:100%;height:0;padding-bottom:60%;\"><iframe src=\"data:text/html;charset=utf-8;base64,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\" style=\"position:absolute;width:100%;height:100%;left:0;top:0;border:none !important;\" allowfullscreen webkitallowfullscreen mozallowfullscreen></iframe></div></div>"
      ],
      "text/plain": [
       "<folium.folium.Map at 0x7ff5fc9f4550>"
      ]
     },
     "execution_count": 49,
     "metadata": {},
     "output_type": "execute_result"
    }
   ],
   "source": [
    "# create map of Manhattan using latitude and longitude values\n",
    "m = folium.Map(location=[latitude, longitude], zoom_start=11)\n",
    "\n",
    "# add markers to map\n",
    "for lat, lng, label in zip(df_central_toronto[COL_NAME_LATITUDE], \n",
    "                           df_central_toronto[COL_NAME_LONGITUDE], \n",
    "                           df_central_toronto[COL_NAME_NEIGHBOURHOOD]):\n",
    "    label = folium.Popup(label, parse_html=True)\n",
    "    folium.CircleMarker(\n",
    "        [lat, lng],\n",
    "        radius=5,\n",
    "        popup=label,\n",
    "        color='blue',\n",
    "        fill=True,\n",
    "        fill_color='#3186cc',\n",
    "        fill_opacity=0.7,\n",
    "        parse_html=False).add_to(m)  \n",
    "    \n",
    "m"
   ]
  },
  {
   "cell_type": "markdown",
   "metadata": {},
   "source": [
    "<img src=\"images/w3_h2.png\">"
   ]
  },
  {
   "cell_type": "markdown",
   "metadata": {},
   "source": [
    "### Defining Foursquare Credentials and Version\n",
    "\n",
    "Next, we are going to start utilizing the Foursquare API to explore the neighborhoods and segment them."
   ]
  },
  {
   "cell_type": "code",
   "execution_count": 80,
   "metadata": {
    "ExecuteTime": {
     "end_time": "2019-12-14T20:44:44.238584Z",
     "start_time": "2019-12-14T20:44:44.234960Z"
    }
   },
   "outputs": [
    {
     "name": "stdout",
     "output_type": "stream",
     "text": [
      "Your credentails:\n",
      "CLIENT_ID: XXX\n",
      "CLIENT_SECRET:XXX\n"
     ]
    }
   ],
   "source": [
    "CLIENT_ID = 'XXX'     # Foursquare ID\n",
    "CLIENT_SECRET = 'XXX' # Foursquare Secret\n",
    "VERSION = '20180604'\n",
    "LIMIT = 30\n",
    "print('Your credentails:')\n",
    "print('CLIENT_ID: ' + CLIENT_ID)\n",
    "print('CLIENT_SECRET:' + CLIENT_SECRET)"
   ]
  },
  {
   "cell_type": "markdown",
   "metadata": {},
   "source": [
    "### Let's explore the first neighborhood in our dataframe"
   ]
  },
  {
   "cell_type": "markdown",
   "metadata": {},
   "source": [
    "Get the neighborhood's name."
   ]
  },
  {
   "cell_type": "code",
   "execution_count": 51,
   "metadata": {
    "ExecuteTime": {
     "end_time": "2019-12-14T20:42:18.320067Z",
     "start_time": "2019-12-14T20:42:18.315516Z"
    }
   },
   "outputs": [
    {
     "data": {
      "text/plain": [
       "'Lawrence Park'"
      ]
     },
     "execution_count": 51,
     "metadata": {},
     "output_type": "execute_result"
    }
   ],
   "source": [
    "df_central_toronto.loc[0, COL_NAME_NEIGHBOURHOOD]"
   ]
  },
  {
   "cell_type": "markdown",
   "metadata": {},
   "source": [
    "Get the neighborhood's latitude and longitude values."
   ]
  },
  {
   "cell_type": "code",
   "execution_count": 52,
   "metadata": {
    "ExecuteTime": {
     "end_time": "2019-12-14T20:42:18.518753Z",
     "start_time": "2019-12-14T20:42:18.515019Z"
    }
   },
   "outputs": [
    {
     "name": "stdout",
     "output_type": "stream",
     "text": [
      "Latitude and longitude values of Lawrence Park are 43.7280205, -79.3887901.\n"
     ]
    }
   ],
   "source": [
    "neighborhood_latitude = df_central_toronto.loc[0, COL_NAME_LATITUDE]   # neighborhood latitude value\n",
    "neighborhood_longitude = df_central_toronto.loc[0, COL_NAME_LONGITUDE] # neighborhood longitude value\n",
    "\n",
    "neighborhood_name = df_central_toronto.loc[0, COL_NAME_NEIGHBOURHOOD] # neighborhood name\n",
    "\n",
    "print('Latitude and longitude values of {} are {}, {}.'.format(neighborhood_name, \n",
    "                                                               neighborhood_latitude, \n",
    "                                                               neighborhood_longitude))"
   ]
  },
  {
   "cell_type": "markdown",
   "metadata": {},
   "source": [
    "### Now, let's get the top 100 venues that are in Marble Hill within a radius of 500 meters.\n",
    "\n",
    "First, let's create the GET request URL. Name your URL **url**."
   ]
  },
  {
   "cell_type": "code",
   "execution_count": 81,
   "metadata": {
    "ExecuteTime": {
     "end_time": "2019-12-14T20:44:55.033190Z",
     "start_time": "2019-12-14T20:44:55.027107Z"
    }
   },
   "outputs": [
    {
     "data": {
      "text/plain": [
       "'https://api.foursquare.com/v2/venues/explore?&client_id=XXX&client_secret=XXX&v=20180604&ll=43.7280205,-79.3887901&radius=500&limit=100'"
      ]
     },
     "execution_count": 81,
     "metadata": {},
     "output_type": "execute_result"
    }
   ],
   "source": [
    "LIMIT = 100 # limit of number of venues returned by Foursquare API\n",
    "radius = 500 # define radius\n",
    "\n",
    "# create URL\n",
    "url = 'https://api.foursquare.com/v2/venues/explore?&client_id={}&client_secret={}&v={}&ll={},{}&radius={}&limit={}'.format(\n",
    "    CLIENT_ID, \n",
    "    CLIENT_SECRET, \n",
    "    VERSION, \n",
    "    neighborhood_latitude, \n",
    "    neighborhood_longitude, \n",
    "    radius, \n",
    "    LIMIT)\n",
    "\n",
    "url # display URL"
   ]
  },
  {
   "cell_type": "markdown",
   "metadata": {},
   "source": [
    "Send the GET request and examine the resutls"
   ]
  },
  {
   "cell_type": "code",
   "execution_count": 54,
   "metadata": {
    "ExecuteTime": {
     "end_time": "2019-12-14T20:42:19.358233Z",
     "start_time": "2019-12-14T20:42:18.928068Z"
    }
   },
   "outputs": [
    {
     "data": {
      "text/plain": [
       "{'meta': {'code': 200, 'requestId': '5df54900760a7f001b149e46'},\n",
       " 'response': {'headerLocation': 'Toronto',\n",
       "  'headerFullLocation': 'Toronto',\n",
       "  'headerLocationGranularity': 'city',\n",
       "  'totalResults': 4,\n",
       "  'suggestedBounds': {'ne': {'lat': 43.7325205045, 'lng': -79.3825744605273},\n",
       "   'sw': {'lat': 43.7235204955, 'lng': -79.3950057394727}},\n",
       "  'groups': [{'type': 'Recommended Places',\n",
       "    'name': 'recommended',\n",
       "    'items': [{'reasons': {'count': 0,\n",
       "       'items': [{'summary': 'This spot is popular',\n",
       "         'type': 'general',\n",
       "         'reasonName': 'globalInteractionReason'}]},\n",
       "      'venue': {'id': '50e6da19e4b0d8a78a0e9794',\n",
       "       'name': 'Lawrence Park Ravine',\n",
       "       'location': {'address': '3055 Yonge Street',\n",
       "        'crossStreet': 'Lawrence Avenue East',\n",
       "        'lat': 43.72696303913755,\n",
       "        'lng': -79.39438246708775,\n",
       "        'labeledLatLngs': [{'label': 'display',\n",
       "          'lat': 43.72696303913755,\n",
       "          'lng': -79.39438246708775}],\n",
       "        'distance': 465,\n",
       "        'cc': 'CA',\n",
       "        'city': 'Toronto',\n",
       "        'state': 'ON',\n",
       "        'country': 'Canada',\n",
       "        'formattedAddress': ['3055 Yonge Street (Lawrence Avenue East)',\n",
       "         'Toronto ON',\n",
       "         'Canada']},\n",
       "       'categories': [{'id': '4bf58dd8d48988d163941735',\n",
       "         'name': 'Park',\n",
       "         'pluralName': 'Parks',\n",
       "         'shortName': 'Park',\n",
       "         'icon': {'prefix': 'https://ss3.4sqi.net/img/categories_v2/parks_outdoors/park_',\n",
       "          'suffix': '.png'},\n",
       "         'primary': True}],\n",
       "       'photos': {'count': 0, 'groups': []}},\n",
       "      'referralId': 'e-0-50e6da19e4b0d8a78a0e9794-0'},\n",
       "     {'reasons': {'count': 0,\n",
       "       'items': [{'summary': 'This spot is popular',\n",
       "         'type': 'general',\n",
       "         'reasonName': 'globalInteractionReason'}]},\n",
       "      'venue': {'id': '4c584d82b1369521c2d0735a',\n",
       "       'name': 'Booty Camp Fitness',\n",
       "       'location': {'address': 'Lawrence Park',\n",
       "        'lat': 43.72805079985635,\n",
       "        'lng': -79.38785264444358,\n",
       "        'labeledLatLngs': [{'label': 'display',\n",
       "          'lat': 43.72805079985635,\n",
       "          'lng': -79.38785264444358}],\n",
       "        'distance': 75,\n",
       "        'cc': 'CA',\n",
       "        'city': 'Toronto',\n",
       "        'state': 'ON',\n",
       "        'country': 'Canada',\n",
       "        'formattedAddress': ['Lawrence Park', 'Toronto ON', 'Canada']},\n",
       "       'categories': [{'id': '4bf58dd8d48988d175941735',\n",
       "         'name': 'Gym / Fitness Center',\n",
       "         'pluralName': 'Gyms or Fitness Centers',\n",
       "         'shortName': 'Gym / Fitness',\n",
       "         'icon': {'prefix': 'https://ss3.4sqi.net/img/categories_v2/building/gym_',\n",
       "          'suffix': '.png'},\n",
       "         'primary': True}],\n",
       "       'photos': {'count': 0, 'groups': []}},\n",
       "      'referralId': 'e-0-4c584d82b1369521c2d0735a-1'},\n",
       "     {'reasons': {'count': 0,\n",
       "       'items': [{'summary': 'This spot is popular',\n",
       "         'type': 'general',\n",
       "         'reasonName': 'globalInteractionReason'}]},\n",
       "      'venue': {'id': '5082ef77e4b0a7491cf7b022',\n",
       "       'name': 'Zodiac Swim School',\n",
       "       'location': {'lat': 43.72853205765438,\n",
       "        'lng': -79.3828602612317,\n",
       "        'labeledLatLngs': [{'label': 'display',\n",
       "          'lat': 43.72853205765438,\n",
       "          'lng': -79.3828602612317}],\n",
       "        'distance': 480,\n",
       "        'cc': 'CA',\n",
       "        'country': 'Canada',\n",
       "        'formattedAddress': ['Canada']},\n",
       "       'categories': [{'id': '52e81612bcbc57f1066b7a44',\n",
       "         'name': 'Swim School',\n",
       "         'pluralName': 'Swim Schools',\n",
       "         'shortName': 'Swim School',\n",
       "         'icon': {'prefix': 'https://ss3.4sqi.net/img/categories_v2/parks_outdoors/pool_',\n",
       "          'suffix': '.png'},\n",
       "         'primary': True}],\n",
       "       'photos': {'count': 0, 'groups': []}},\n",
       "      'referralId': 'e-0-5082ef77e4b0a7491cf7b022-2'},\n",
       "     {'reasons': {'count': 0,\n",
       "       'items': [{'summary': 'This spot is popular',\n",
       "         'type': 'general',\n",
       "         'reasonName': 'globalInteractionReason'}]},\n",
       "      'venue': {'id': '50ed9da8e4b081eabee12672',\n",
       "       'name': 'TTC Bus #162 - Lawrence-Donway',\n",
       "       'location': {'lat': 43.72802605799448,\n",
       "        'lng': -79.38280527753858,\n",
       "        'labeledLatLngs': [{'label': 'display',\n",
       "          'lat': 43.72802605799448,\n",
       "          'lng': -79.38280527753858}],\n",
       "        'distance': 481,\n",
       "        'cc': 'CA',\n",
       "        'city': 'Toronto',\n",
       "        'state': 'ON',\n",
       "        'country': 'Canada',\n",
       "        'formattedAddress': ['Toronto ON', 'Canada']},\n",
       "       'categories': [{'id': '4bf58dd8d48988d12b951735',\n",
       "         'name': 'Bus Line',\n",
       "         'pluralName': 'Bus Lines',\n",
       "         'shortName': 'Bus',\n",
       "         'icon': {'prefix': 'https://ss3.4sqi.net/img/categories_v2/travel/busstation_',\n",
       "          'suffix': '.png'},\n",
       "         'primary': True}],\n",
       "       'photos': {'count': 0, 'groups': []}},\n",
       "      'referralId': 'e-0-50ed9da8e4b081eabee12672-3'}]}]}}"
      ]
     },
     "execution_count": 54,
     "metadata": {},
     "output_type": "execute_result"
    }
   ],
   "source": [
    "import requests # library to handle requests\n",
    "\n",
    "results = requests.get(url).json()\n",
    "results"
   ]
  },
  {
   "cell_type": "markdown",
   "metadata": {},
   "source": [
    "Let's borrow the **get_category_type** function from the Foursquare lab."
   ]
  },
  {
   "cell_type": "code",
   "execution_count": 55,
   "metadata": {
    "ExecuteTime": {
     "end_time": "2019-12-14T20:42:19.362997Z",
     "start_time": "2019-12-14T20:42:19.359893Z"
    }
   },
   "outputs": [],
   "source": [
    "# function that extracts the category of the venue\n",
    "def get_category_type(row):\n",
    "    try:\n",
    "        categories_list = row['categories']\n",
    "    except:\n",
    "        categories_list = row['venue.categories']\n",
    "        \n",
    "    if len(categories_list) == 0:\n",
    "        return None\n",
    "    else:\n",
    "        return categories_list[0]['name']"
   ]
  },
  {
   "cell_type": "markdown",
   "metadata": {},
   "source": [
    "Now we are ready to clean the json and structure it into a *pandas* dataframe."
   ]
  },
  {
   "cell_type": "code",
   "execution_count": 56,
   "metadata": {
    "ExecuteTime": {
     "end_time": "2019-12-14T20:42:19.392925Z",
     "start_time": "2019-12-14T20:42:19.364632Z"
    }
   },
   "outputs": [
    {
     "data": {
      "text/html": [
       "<div>\n",
       "<style scoped>\n",
       "    .dataframe tbody tr th:only-of-type {\n",
       "        vertical-align: middle;\n",
       "    }\n",
       "\n",
       "    .dataframe tbody tr th {\n",
       "        vertical-align: top;\n",
       "    }\n",
       "\n",
       "    .dataframe thead th {\n",
       "        text-align: right;\n",
       "    }\n",
       "</style>\n",
       "<table border=\"1\" class=\"dataframe\">\n",
       "  <thead>\n",
       "    <tr style=\"text-align: right;\">\n",
       "      <th></th>\n",
       "      <th>name</th>\n",
       "      <th>categories</th>\n",
       "      <th>lat</th>\n",
       "      <th>lng</th>\n",
       "    </tr>\n",
       "  </thead>\n",
       "  <tbody>\n",
       "    <tr>\n",
       "      <td>0</td>\n",
       "      <td>Lawrence Park Ravine</td>\n",
       "      <td>Park</td>\n",
       "      <td>43.726963</td>\n",
       "      <td>-79.394382</td>\n",
       "    </tr>\n",
       "    <tr>\n",
       "      <td>1</td>\n",
       "      <td>Booty Camp Fitness</td>\n",
       "      <td>Gym / Fitness Center</td>\n",
       "      <td>43.728051</td>\n",
       "      <td>-79.387853</td>\n",
       "    </tr>\n",
       "    <tr>\n",
       "      <td>2</td>\n",
       "      <td>Zodiac Swim School</td>\n",
       "      <td>Swim School</td>\n",
       "      <td>43.728532</td>\n",
       "      <td>-79.382860</td>\n",
       "    </tr>\n",
       "    <tr>\n",
       "      <td>3</td>\n",
       "      <td>TTC Bus #162 - Lawrence-Donway</td>\n",
       "      <td>Bus Line</td>\n",
       "      <td>43.728026</td>\n",
       "      <td>-79.382805</td>\n",
       "    </tr>\n",
       "  </tbody>\n",
       "</table>\n",
       "</div>"
      ],
      "text/plain": [
       "                             name            categories        lat        lng\n",
       "0            Lawrence Park Ravine                  Park  43.726963 -79.394382\n",
       "1              Booty Camp Fitness  Gym / Fitness Center  43.728051 -79.387853\n",
       "2              Zodiac Swim School           Swim School  43.728532 -79.382860\n",
       "3  TTC Bus #162 - Lawrence-Donway              Bus Line  43.728026 -79.382805"
      ]
     },
     "execution_count": 56,
     "metadata": {},
     "output_type": "execute_result"
    }
   ],
   "source": [
    "from pandas.io.json import json_normalize # tranform JSON file into a pandas dataframe\n",
    "\n",
    "venues = results['response']['groups'][0]['items']\n",
    "    \n",
    "nearby_venues = json_normalize(venues) # flatten JSON\n",
    "\n",
    "# filter columns\n",
    "filtered_columns = ['venue.name', 'venue.categories', 'venue.location.lat', 'venue.location.lng']\n",
    "nearby_venues =nearby_venues.loc[:, filtered_columns]\n",
    "\n",
    "# filter the category for each row\n",
    "nearby_venues['venue.categories'] = nearby_venues.apply(get_category_type, axis=1)\n",
    "\n",
    "# clean columns\n",
    "nearby_venues.columns = [col.split(\".\")[-1] for col in nearby_venues.columns]\n",
    "\n",
    "nearby_venues.head()"
   ]
  },
  {
   "cell_type": "markdown",
   "metadata": {},
   "source": [
    "And how many venues were returned by Foursquare?"
   ]
  },
  {
   "cell_type": "code",
   "execution_count": 57,
   "metadata": {
    "ExecuteTime": {
     "end_time": "2019-12-14T20:42:19.541165Z",
     "start_time": "2019-12-14T20:42:19.538002Z"
    }
   },
   "outputs": [
    {
     "name": "stdout",
     "output_type": "stream",
     "text": [
      "4 venues were returned by Foursquare.\n"
     ]
    }
   ],
   "source": [
    "print('{} venues were returned by Foursquare.'.format(nearby_venues.shape[0]))"
   ]
  },
  {
   "cell_type": "markdown",
   "metadata": {},
   "source": [
    "## Exploring Neighborhoods of Central Toronto, Canada"
   ]
  },
  {
   "cell_type": "markdown",
   "metadata": {},
   "source": [
    "### Let's create a function to repeat the same process to all the neighborhoods"
   ]
  },
  {
   "cell_type": "code",
   "execution_count": 58,
   "metadata": {
    "ExecuteTime": {
     "end_time": "2019-12-14T20:42:19.957025Z",
     "start_time": "2019-12-14T20:42:19.948856Z"
    }
   },
   "outputs": [],
   "source": [
    "COL_NAME_VENUE = \"Venue\"\n",
    "COL_NAME_CATEGORY = \"Category\"\n",
    "\n",
    "COL_NAME_NEIGHBOURHOOD_LATITUDE = COL_NAME_NEIGHBOURHOOD + \" \" + COL_NAME_LATITUDE\n",
    "COL_NAME_NEIGHBOURHOOD_LONGITUDE = COL_NAME_NEIGHBOURHOOD + \" \" + COL_NAME_LONGITUDE\n",
    "COL_NAME_VENUE_LATITUDE = COL_NAME_VENUE + \" \" + COL_NAME_LATITUDE\n",
    "COL_NAME_VENUE_LONGITUDE = COL_NAME_VENUE + \" \" + COL_NAME_LONGITUDE\n",
    "COL_NAME_VENUE_CATEGORY = COL_NAME_VENUE + \" \" + COL_NAME_CATEGORY\n",
    "\n",
    "\n",
    "def get_near_by_venues(names, latitudes, longitudes, radius=500):    \n",
    "    venues_list=[]\n",
    "    for name, lat, lng in zip(names, latitudes, longitudes):\n",
    "        print(name)\n",
    "            \n",
    "        # create the API request URL\n",
    "        url = 'https://api.foursquare.com/v2/venues/explore?&client_id={}&client_secret={}&v={}&ll={},{}&radius={}&limit={}'.format(\n",
    "            CLIENT_ID, \n",
    "            CLIENT_SECRET, \n",
    "            VERSION, \n",
    "            lat, \n",
    "            lng, \n",
    "            radius, \n",
    "            LIMIT)\n",
    "            \n",
    "        # make the GET request\n",
    "        results = requests.get(url).json()[\"response\"]['groups'][0]['items']\n",
    "        \n",
    "        # return only relevant information for each nearby venue\n",
    "        venues_list.append([(\n",
    "            name, \n",
    "            lat, \n",
    "            lng, \n",
    "            v['venue']['name'], \n",
    "            v['venue']['location']['lat'], \n",
    "            v['venue']['location']['lng'],  \n",
    "            v['venue']['categories'][0]['name']) for v in results])\n",
    "\n",
    "    nearby_venues = pd.DataFrame([item for venue_list in venues_list for item in venue_list])\n",
    "    nearby_venues.columns = [COL_NAME_NEIGHBOURHOOD, \n",
    "                             COL_NAME_NEIGHBOURHOOD_LATITUDE,\n",
    "                             COL_NAME_NEIGHBOURHOOD_LONGITUDE,\n",
    "                             COL_NAME_VENUE,\n",
    "                             COL_NAME_VENUE_LATITUDE,\n",
    "                             COL_NAME_VENUE_LONGITUDE,\n",
    "                             COL_NAME_VENUE_CATEGORY]\n",
    "    return(nearby_venues)\n"
   ]
  },
  {
   "cell_type": "markdown",
   "metadata": {},
   "source": [
    "### Getting dataframe that contains all the neighborhoods of Central Toronto"
   ]
  },
  {
   "cell_type": "code",
   "execution_count": 59,
   "metadata": {
    "ExecuteTime": {
     "end_time": "2019-12-14T20:42:24.003432Z",
     "start_time": "2019-12-14T20:42:20.180540Z"
    }
   },
   "outputs": [
    {
     "name": "stdout",
     "output_type": "stream",
     "text": [
      "Lawrence Park\n",
      "Davisville North\n",
      "North Toronto West\n",
      "Davisville\n",
      "Moore Park,Summerhill East\n",
      "Deer Park,Forest Hill SE,Rathnelly,South Hill,Summerhill West\n",
      "Roselawn\n",
      "Forest Hill North,Forest Hill West\n",
      "The Annex,North Midtown,Yorkville\n"
     ]
    }
   ],
   "source": [
    "venues_central_toronto = get_near_by_venues(\n",
    "    names=df_central_toronto[COL_NAME_NEIGHBOURHOOD],\n",
    "    latitudes=df_central_toronto[COL_NAME_LATITUDE],                           \n",
    "    longitudes=df_central_toronto[COL_NAME_LONGITUDE])"
   ]
  },
  {
   "cell_type": "markdown",
   "metadata": {},
   "source": [
    "### Let's check the size of the resulting dataframe"
   ]
  },
  {
   "cell_type": "code",
   "execution_count": 60,
   "metadata": {
    "ExecuteTime": {
     "end_time": "2019-12-14T20:42:24.016030Z",
     "start_time": "2019-12-14T20:42:24.005169Z"
    }
   },
   "outputs": [
    {
     "name": "stdout",
     "output_type": "stream",
     "text": [
      "(row, column) = (114, 7)\n"
     ]
    },
    {
     "data": {
      "text/html": [
       "<div>\n",
       "<style scoped>\n",
       "    .dataframe tbody tr th:only-of-type {\n",
       "        vertical-align: middle;\n",
       "    }\n",
       "\n",
       "    .dataframe tbody tr th {\n",
       "        vertical-align: top;\n",
       "    }\n",
       "\n",
       "    .dataframe thead th {\n",
       "        text-align: right;\n",
       "    }\n",
       "</style>\n",
       "<table border=\"1\" class=\"dataframe\">\n",
       "  <thead>\n",
       "    <tr style=\"text-align: right;\">\n",
       "      <th></th>\n",
       "      <th>Neighbourhood</th>\n",
       "      <th>Neighbourhood Latitude</th>\n",
       "      <th>Neighbourhood Longitude</th>\n",
       "      <th>Venue</th>\n",
       "      <th>Venue Latitude</th>\n",
       "      <th>Venue Longitude</th>\n",
       "      <th>Venue Category</th>\n",
       "    </tr>\n",
       "  </thead>\n",
       "  <tbody>\n",
       "    <tr>\n",
       "      <td>0</td>\n",
       "      <td>Lawrence Park</td>\n",
       "      <td>43.728020</td>\n",
       "      <td>-79.388790</td>\n",
       "      <td>Lawrence Park Ravine</td>\n",
       "      <td>43.726963</td>\n",
       "      <td>-79.394382</td>\n",
       "      <td>Park</td>\n",
       "    </tr>\n",
       "    <tr>\n",
       "      <td>1</td>\n",
       "      <td>Lawrence Park</td>\n",
       "      <td>43.728020</td>\n",
       "      <td>-79.388790</td>\n",
       "      <td>Booty Camp Fitness</td>\n",
       "      <td>43.728051</td>\n",
       "      <td>-79.387853</td>\n",
       "      <td>Gym / Fitness Center</td>\n",
       "    </tr>\n",
       "    <tr>\n",
       "      <td>2</td>\n",
       "      <td>Lawrence Park</td>\n",
       "      <td>43.728020</td>\n",
       "      <td>-79.388790</td>\n",
       "      <td>Zodiac Swim School</td>\n",
       "      <td>43.728532</td>\n",
       "      <td>-79.382860</td>\n",
       "      <td>Swim School</td>\n",
       "    </tr>\n",
       "    <tr>\n",
       "      <td>3</td>\n",
       "      <td>Lawrence Park</td>\n",
       "      <td>43.728020</td>\n",
       "      <td>-79.388790</td>\n",
       "      <td>TTC Bus #162 - Lawrence-Donway</td>\n",
       "      <td>43.728026</td>\n",
       "      <td>-79.382805</td>\n",
       "      <td>Bus Line</td>\n",
       "    </tr>\n",
       "    <tr>\n",
       "      <td>4</td>\n",
       "      <td>Davisville North</td>\n",
       "      <td>43.712751</td>\n",
       "      <td>-79.390197</td>\n",
       "      <td>Sherwood Park</td>\n",
       "      <td>43.716551</td>\n",
       "      <td>-79.387776</td>\n",
       "      <td>Park</td>\n",
       "    </tr>\n",
       "  </tbody>\n",
       "</table>\n",
       "</div>"
      ],
      "text/plain": [
       "      Neighbourhood  Neighbourhood Latitude  Neighbourhood Longitude  \\\n",
       "0     Lawrence Park               43.728020               -79.388790   \n",
       "1     Lawrence Park               43.728020               -79.388790   \n",
       "2     Lawrence Park               43.728020               -79.388790   \n",
       "3     Lawrence Park               43.728020               -79.388790   \n",
       "4  Davisville North               43.712751               -79.390197   \n",
       "\n",
       "                            Venue  Venue Latitude  Venue Longitude  \\\n",
       "0            Lawrence Park Ravine       43.726963       -79.394382   \n",
       "1              Booty Camp Fitness       43.728051       -79.387853   \n",
       "2              Zodiac Swim School       43.728532       -79.382860   \n",
       "3  TTC Bus #162 - Lawrence-Donway       43.728026       -79.382805   \n",
       "4                   Sherwood Park       43.716551       -79.387776   \n",
       "\n",
       "         Venue Category  \n",
       "0                  Park  \n",
       "1  Gym / Fitness Center  \n",
       "2           Swim School  \n",
       "3              Bus Line  \n",
       "4                  Park  "
      ]
     },
     "execution_count": 60,
     "metadata": {},
     "output_type": "execute_result"
    }
   ],
   "source": [
    "print(\"(row, column) = %s\" % str(venues_central_toronto.shape))\n",
    "venues_central_toronto.head()"
   ]
  },
  {
   "cell_type": "markdown",
   "metadata": {},
   "source": [
    "### Let's check how many venues were returned for each neighborhood"
   ]
  },
  {
   "cell_type": "code",
   "execution_count": 61,
   "metadata": {
    "ExecuteTime": {
     "end_time": "2019-12-14T20:42:24.040872Z",
     "start_time": "2019-12-14T20:42:24.017821Z"
    }
   },
   "outputs": [
    {
     "data": {
      "text/html": [
       "<div>\n",
       "<style scoped>\n",
       "    .dataframe tbody tr th:only-of-type {\n",
       "        vertical-align: middle;\n",
       "    }\n",
       "\n",
       "    .dataframe tbody tr th {\n",
       "        vertical-align: top;\n",
       "    }\n",
       "\n",
       "    .dataframe thead th {\n",
       "        text-align: right;\n",
       "    }\n",
       "</style>\n",
       "<table border=\"1\" class=\"dataframe\">\n",
       "  <thead>\n",
       "    <tr style=\"text-align: right;\">\n",
       "      <th></th>\n",
       "      <th>Neighbourhood Latitude</th>\n",
       "      <th>Neighbourhood Longitude</th>\n",
       "      <th>Venue</th>\n",
       "      <th>Venue Latitude</th>\n",
       "      <th>Venue Longitude</th>\n",
       "      <th>Venue Category</th>\n",
       "    </tr>\n",
       "    <tr>\n",
       "      <th>Neighbourhood</th>\n",
       "      <th></th>\n",
       "      <th></th>\n",
       "      <th></th>\n",
       "      <th></th>\n",
       "      <th></th>\n",
       "      <th></th>\n",
       "    </tr>\n",
       "  </thead>\n",
       "  <tbody>\n",
       "    <tr>\n",
       "      <td>Davisville</td>\n",
       "      <td>35</td>\n",
       "      <td>35</td>\n",
       "      <td>35</td>\n",
       "      <td>35</td>\n",
       "      <td>35</td>\n",
       "      <td>35</td>\n",
       "    </tr>\n",
       "    <tr>\n",
       "      <td>Davisville North</td>\n",
       "      <td>9</td>\n",
       "      <td>9</td>\n",
       "      <td>9</td>\n",
       "      <td>9</td>\n",
       "      <td>9</td>\n",
       "      <td>9</td>\n",
       "    </tr>\n",
       "    <tr>\n",
       "      <td>Deer Park,Forest Hill SE,Rathnelly,South Hill,Summerhill West</td>\n",
       "      <td>15</td>\n",
       "      <td>15</td>\n",
       "      <td>15</td>\n",
       "      <td>15</td>\n",
       "      <td>15</td>\n",
       "      <td>15</td>\n",
       "    </tr>\n",
       "    <tr>\n",
       "      <td>Forest Hill North,Forest Hill West</td>\n",
       "      <td>4</td>\n",
       "      <td>4</td>\n",
       "      <td>4</td>\n",
       "      <td>4</td>\n",
       "      <td>4</td>\n",
       "      <td>4</td>\n",
       "    </tr>\n",
       "    <tr>\n",
       "      <td>Lawrence Park</td>\n",
       "      <td>4</td>\n",
       "      <td>4</td>\n",
       "      <td>4</td>\n",
       "      <td>4</td>\n",
       "      <td>4</td>\n",
       "      <td>4</td>\n",
       "    </tr>\n",
       "    <tr>\n",
       "      <td>Moore Park,Summerhill East</td>\n",
       "      <td>3</td>\n",
       "      <td>3</td>\n",
       "      <td>3</td>\n",
       "      <td>3</td>\n",
       "      <td>3</td>\n",
       "      <td>3</td>\n",
       "    </tr>\n",
       "    <tr>\n",
       "      <td>North Toronto West</td>\n",
       "      <td>22</td>\n",
       "      <td>22</td>\n",
       "      <td>22</td>\n",
       "      <td>22</td>\n",
       "      <td>22</td>\n",
       "      <td>22</td>\n",
       "    </tr>\n",
       "    <tr>\n",
       "      <td>Roselawn</td>\n",
       "      <td>2</td>\n",
       "      <td>2</td>\n",
       "      <td>2</td>\n",
       "      <td>2</td>\n",
       "      <td>2</td>\n",
       "      <td>2</td>\n",
       "    </tr>\n",
       "    <tr>\n",
       "      <td>The Annex,North Midtown,Yorkville</td>\n",
       "      <td>20</td>\n",
       "      <td>20</td>\n",
       "      <td>20</td>\n",
       "      <td>20</td>\n",
       "      <td>20</td>\n",
       "      <td>20</td>\n",
       "    </tr>\n",
       "  </tbody>\n",
       "</table>\n",
       "</div>"
      ],
      "text/plain": [
       "                                                    Neighbourhood Latitude  \\\n",
       "Neighbourhood                                                                \n",
       "Davisville                                                              35   \n",
       "Davisville North                                                         9   \n",
       "Deer Park,Forest Hill SE,Rathnelly,South Hill,S...                      15   \n",
       "Forest Hill North,Forest Hill West                                       4   \n",
       "Lawrence Park                                                            4   \n",
       "Moore Park,Summerhill East                                               3   \n",
       "North Toronto West                                                      22   \n",
       "Roselawn                                                                 2   \n",
       "The Annex,North Midtown,Yorkville                                       20   \n",
       "\n",
       "                                                    Neighbourhood Longitude  \\\n",
       "Neighbourhood                                                                 \n",
       "Davisville                                                               35   \n",
       "Davisville North                                                          9   \n",
       "Deer Park,Forest Hill SE,Rathnelly,South Hill,S...                       15   \n",
       "Forest Hill North,Forest Hill West                                        4   \n",
       "Lawrence Park                                                             4   \n",
       "Moore Park,Summerhill East                                                3   \n",
       "North Toronto West                                                       22   \n",
       "Roselawn                                                                  2   \n",
       "The Annex,North Midtown,Yorkville                                        20   \n",
       "\n",
       "                                                    Venue  Venue Latitude  \\\n",
       "Neighbourhood                                                               \n",
       "Davisville                                             35              35   \n",
       "Davisville North                                        9               9   \n",
       "Deer Park,Forest Hill SE,Rathnelly,South Hill,S...     15              15   \n",
       "Forest Hill North,Forest Hill West                      4               4   \n",
       "Lawrence Park                                           4               4   \n",
       "Moore Park,Summerhill East                              3               3   \n",
       "North Toronto West                                     22              22   \n",
       "Roselawn                                                2               2   \n",
       "The Annex,North Midtown,Yorkville                      20              20   \n",
       "\n",
       "                                                    Venue Longitude  \\\n",
       "Neighbourhood                                                         \n",
       "Davisville                                                       35   \n",
       "Davisville North                                                  9   \n",
       "Deer Park,Forest Hill SE,Rathnelly,South Hill,S...               15   \n",
       "Forest Hill North,Forest Hill West                                4   \n",
       "Lawrence Park                                                     4   \n",
       "Moore Park,Summerhill East                                        3   \n",
       "North Toronto West                                               22   \n",
       "Roselawn                                                          2   \n",
       "The Annex,North Midtown,Yorkville                                20   \n",
       "\n",
       "                                                    Venue Category  \n",
       "Neighbourhood                                                       \n",
       "Davisville                                                      35  \n",
       "Davisville North                                                 9  \n",
       "Deer Park,Forest Hill SE,Rathnelly,South Hill,S...              15  \n",
       "Forest Hill North,Forest Hill West                               4  \n",
       "Lawrence Park                                                    4  \n",
       "Moore Park,Summerhill East                                       3  \n",
       "North Toronto West                                              22  \n",
       "Roselawn                                                         2  \n",
       "The Annex,North Midtown,Yorkville                               20  "
      ]
     },
     "execution_count": 61,
     "metadata": {},
     "output_type": "execute_result"
    }
   ],
   "source": [
    "venues_central_toronto.groupby(COL_NAME_NEIGHBOURHOOD).count()"
   ]
  },
  {
   "cell_type": "markdown",
   "metadata": {},
   "source": [
    "### Let's find out how many unique categories can be curated from all the returned venues"
   ]
  },
  {
   "cell_type": "code",
   "execution_count": 62,
   "metadata": {
    "ExecuteTime": {
     "end_time": "2019-12-14T20:42:24.055316Z",
     "start_time": "2019-12-14T20:42:24.042665Z"
    }
   },
   "outputs": [
    {
     "data": {
      "text/plain": [
       "array(['Park', 'Gym / Fitness Center', 'Swim School', 'Bus Line',\n",
       "       'Food & Drink Shop', 'Breakfast Spot', 'Clothing Store', 'Hotel',\n",
       "       'Sandwich Place', 'Gym', 'Pizza Place', 'Chinese Restaurant',\n",
       "       'Yoga Studio', 'Coffee Shop', 'Restaurant', 'Diner', 'Spa',\n",
       "       'Salon / Barbershop', 'Sporting Goods Shop', 'Mexican Restaurant',\n",
       "       'Dessert Shop', 'Burger Joint', 'Toy / Game Store',\n",
       "       'Health & Beauty Service', 'Cosmetics Shop', 'Rental Car Location',\n",
       "       'Café', 'Indian Restaurant', 'Seafood Restaurant',\n",
       "       'Sushi Restaurant', 'Italian Restaurant', 'Brewery',\n",
       "       'Thai Restaurant', 'Greek Restaurant', 'Gourmet Shop',\n",
       "       'Farmers Market', 'Pharmacy', 'Costume Shop',\n",
       "       'American Restaurant', 'Fried Chicken Joint',\n",
       "       'Japanese Restaurant', 'Intersection', 'Playground',\n",
       "       'Liquor Store', 'Supermarket', 'Sports Bar', 'Pub',\n",
       "       'Vietnamese Restaurant', 'Light Rail Station', 'Bagel Shop',\n",
       "       'Garden', 'Trail', 'Jewelry Store',\n",
       "       'Vegetarian / Vegan Restaurant', 'BBQ Joint', 'History Museum'],\n",
       "      dtype=object)"
      ]
     },
     "execution_count": 62,
     "metadata": {},
     "output_type": "execute_result"
    }
   ],
   "source": [
    "venues_central_toronto[COL_NAME_VENUE_CATEGORY].unique()"
   ]
  },
  {
   "cell_type": "code",
   "execution_count": 63,
   "metadata": {
    "ExecuteTime": {
     "end_time": "2019-12-14T20:42:24.071284Z",
     "start_time": "2019-12-14T20:42:24.056866Z"
    }
   },
   "outputs": [
    {
     "name": "stdout",
     "output_type": "stream",
     "text": [
      "There are 56 uniques categories.\n"
     ]
    }
   ],
   "source": [
    "print('There are {} uniques categories.'.format(\n",
    "    len(venues_central_toronto[COL_NAME_VENUE_CATEGORY].unique())))"
   ]
  },
  {
   "cell_type": "markdown",
   "metadata": {},
   "source": [
    "## Analyzing Each Neighborhood  of Central Toronto, Canada"
   ]
  },
  {
   "cell_type": "code",
   "execution_count": 64,
   "metadata": {
    "ExecuteTime": {
     "end_time": "2019-12-14T20:42:24.104583Z",
     "start_time": "2019-12-14T20:42:24.072690Z"
    }
   },
   "outputs": [
    {
     "data": {
      "text/html": [
       "<div>\n",
       "<style scoped>\n",
       "    .dataframe tbody tr th:only-of-type {\n",
       "        vertical-align: middle;\n",
       "    }\n",
       "\n",
       "    .dataframe tbody tr th {\n",
       "        vertical-align: top;\n",
       "    }\n",
       "\n",
       "    .dataframe thead th {\n",
       "        text-align: right;\n",
       "    }\n",
       "</style>\n",
       "<table border=\"1\" class=\"dataframe\">\n",
       "  <thead>\n",
       "    <tr style=\"text-align: right;\">\n",
       "      <th></th>\n",
       "      <th>Neighbourhood</th>\n",
       "      <th>American Restaurant</th>\n",
       "      <th>BBQ Joint</th>\n",
       "      <th>Bagel Shop</th>\n",
       "      <th>Breakfast Spot</th>\n",
       "      <th>Brewery</th>\n",
       "      <th>Burger Joint</th>\n",
       "      <th>Bus Line</th>\n",
       "      <th>Café</th>\n",
       "      <th>Chinese Restaurant</th>\n",
       "      <th>...</th>\n",
       "      <th>Sports Bar</th>\n",
       "      <th>Supermarket</th>\n",
       "      <th>Sushi Restaurant</th>\n",
       "      <th>Swim School</th>\n",
       "      <th>Thai Restaurant</th>\n",
       "      <th>Toy / Game Store</th>\n",
       "      <th>Trail</th>\n",
       "      <th>Vegetarian / Vegan Restaurant</th>\n",
       "      <th>Vietnamese Restaurant</th>\n",
       "      <th>Yoga Studio</th>\n",
       "    </tr>\n",
       "  </thead>\n",
       "  <tbody>\n",
       "    <tr>\n",
       "      <td>0</td>\n",
       "      <td>Lawrence Park</td>\n",
       "      <td>0</td>\n",
       "      <td>0</td>\n",
       "      <td>0</td>\n",
       "      <td>0</td>\n",
       "      <td>0</td>\n",
       "      <td>0</td>\n",
       "      <td>0</td>\n",
       "      <td>0</td>\n",
       "      <td>0</td>\n",
       "      <td>...</td>\n",
       "      <td>0</td>\n",
       "      <td>0</td>\n",
       "      <td>0</td>\n",
       "      <td>0</td>\n",
       "      <td>0</td>\n",
       "      <td>0</td>\n",
       "      <td>0</td>\n",
       "      <td>0</td>\n",
       "      <td>0</td>\n",
       "      <td>0</td>\n",
       "    </tr>\n",
       "    <tr>\n",
       "      <td>1</td>\n",
       "      <td>Lawrence Park</td>\n",
       "      <td>0</td>\n",
       "      <td>0</td>\n",
       "      <td>0</td>\n",
       "      <td>0</td>\n",
       "      <td>0</td>\n",
       "      <td>0</td>\n",
       "      <td>0</td>\n",
       "      <td>0</td>\n",
       "      <td>0</td>\n",
       "      <td>...</td>\n",
       "      <td>0</td>\n",
       "      <td>0</td>\n",
       "      <td>0</td>\n",
       "      <td>0</td>\n",
       "      <td>0</td>\n",
       "      <td>0</td>\n",
       "      <td>0</td>\n",
       "      <td>0</td>\n",
       "      <td>0</td>\n",
       "      <td>0</td>\n",
       "    </tr>\n",
       "    <tr>\n",
       "      <td>2</td>\n",
       "      <td>Lawrence Park</td>\n",
       "      <td>0</td>\n",
       "      <td>0</td>\n",
       "      <td>0</td>\n",
       "      <td>0</td>\n",
       "      <td>0</td>\n",
       "      <td>0</td>\n",
       "      <td>0</td>\n",
       "      <td>0</td>\n",
       "      <td>0</td>\n",
       "      <td>...</td>\n",
       "      <td>0</td>\n",
       "      <td>0</td>\n",
       "      <td>0</td>\n",
       "      <td>1</td>\n",
       "      <td>0</td>\n",
       "      <td>0</td>\n",
       "      <td>0</td>\n",
       "      <td>0</td>\n",
       "      <td>0</td>\n",
       "      <td>0</td>\n",
       "    </tr>\n",
       "    <tr>\n",
       "      <td>3</td>\n",
       "      <td>Lawrence Park</td>\n",
       "      <td>0</td>\n",
       "      <td>0</td>\n",
       "      <td>0</td>\n",
       "      <td>0</td>\n",
       "      <td>0</td>\n",
       "      <td>0</td>\n",
       "      <td>1</td>\n",
       "      <td>0</td>\n",
       "      <td>0</td>\n",
       "      <td>...</td>\n",
       "      <td>0</td>\n",
       "      <td>0</td>\n",
       "      <td>0</td>\n",
       "      <td>0</td>\n",
       "      <td>0</td>\n",
       "      <td>0</td>\n",
       "      <td>0</td>\n",
       "      <td>0</td>\n",
       "      <td>0</td>\n",
       "      <td>0</td>\n",
       "    </tr>\n",
       "    <tr>\n",
       "      <td>4</td>\n",
       "      <td>Davisville North</td>\n",
       "      <td>0</td>\n",
       "      <td>0</td>\n",
       "      <td>0</td>\n",
       "      <td>0</td>\n",
       "      <td>0</td>\n",
       "      <td>0</td>\n",
       "      <td>0</td>\n",
       "      <td>0</td>\n",
       "      <td>0</td>\n",
       "      <td>...</td>\n",
       "      <td>0</td>\n",
       "      <td>0</td>\n",
       "      <td>0</td>\n",
       "      <td>0</td>\n",
       "      <td>0</td>\n",
       "      <td>0</td>\n",
       "      <td>0</td>\n",
       "      <td>0</td>\n",
       "      <td>0</td>\n",
       "      <td>0</td>\n",
       "    </tr>\n",
       "  </tbody>\n",
       "</table>\n",
       "<p>5 rows × 57 columns</p>\n",
       "</div>"
      ],
      "text/plain": [
       "      Neighbourhood  American Restaurant  BBQ Joint  Bagel Shop  \\\n",
       "0     Lawrence Park                    0          0           0   \n",
       "1     Lawrence Park                    0          0           0   \n",
       "2     Lawrence Park                    0          0           0   \n",
       "3     Lawrence Park                    0          0           0   \n",
       "4  Davisville North                    0          0           0   \n",
       "\n",
       "   Breakfast Spot  Brewery  Burger Joint  Bus Line  Café  Chinese Restaurant  \\\n",
       "0               0        0             0         0     0                   0   \n",
       "1               0        0             0         0     0                   0   \n",
       "2               0        0             0         0     0                   0   \n",
       "3               0        0             0         1     0                   0   \n",
       "4               0        0             0         0     0                   0   \n",
       "\n",
       "   ...  Sports Bar  Supermarket  Sushi Restaurant  Swim School  \\\n",
       "0  ...           0            0                 0            0   \n",
       "1  ...           0            0                 0            0   \n",
       "2  ...           0            0                 0            1   \n",
       "3  ...           0            0                 0            0   \n",
       "4  ...           0            0                 0            0   \n",
       "\n",
       "   Thai Restaurant  Toy / Game Store  Trail  Vegetarian / Vegan Restaurant  \\\n",
       "0                0                 0      0                              0   \n",
       "1                0                 0      0                              0   \n",
       "2                0                 0      0                              0   \n",
       "3                0                 0      0                              0   \n",
       "4                0                 0      0                              0   \n",
       "\n",
       "   Vietnamese Restaurant  Yoga Studio  \n",
       "0                      0            0  \n",
       "1                      0            0  \n",
       "2                      0            0  \n",
       "3                      0            0  \n",
       "4                      0            0  \n",
       "\n",
       "[5 rows x 57 columns]"
      ]
     },
     "execution_count": 64,
     "metadata": {},
     "output_type": "execute_result"
    }
   ],
   "source": [
    "# one hot encoding\n",
    "central_toronto_onehot = pd.get_dummies(venues_central_toronto[[COL_NAME_VENUE_CATEGORY]], \n",
    "                                        prefix=\"\", \n",
    "                                        prefix_sep=\"\")\n",
    "\n",
    "# add neighborhood column back to dataframe\n",
    "central_toronto_onehot[COL_NAME_NEIGHBOURHOOD] = venues_central_toronto[COL_NAME_NEIGHBOURHOOD] \n",
    "\n",
    "# move neighborhood column to the first column\n",
    "fixed_columns = [central_toronto_onehot.columns[-1]] + list(central_toronto_onehot.columns[:-1])\n",
    "central_toronto_onehot = central_toronto_onehot[fixed_columns]\n",
    "\n",
    "central_toronto_onehot.head()"
   ]
  },
  {
   "cell_type": "markdown",
   "metadata": {},
   "source": [
    "And let's examine the new dataframe size."
   ]
  },
  {
   "cell_type": "code",
   "execution_count": 65,
   "metadata": {
    "ExecuteTime": {
     "end_time": "2019-12-14T20:42:24.115090Z",
     "start_time": "2019-12-14T20:42:24.105985Z"
    }
   },
   "outputs": [
    {
     "data": {
      "text/plain": [
       "(114, 57)"
      ]
     },
     "execution_count": 65,
     "metadata": {},
     "output_type": "execute_result"
    }
   ],
   "source": [
    "central_toronto_onehot.shape"
   ]
  },
  {
   "cell_type": "markdown",
   "metadata": {},
   "source": [
    "### Next, let's group rows by neighborhood and by taking the mean of the frequency of occurrence of each category"
   ]
  },
  {
   "cell_type": "code",
   "execution_count": 66,
   "metadata": {
    "ExecuteTime": {
     "end_time": "2019-12-14T20:42:24.151125Z",
     "start_time": "2019-12-14T20:42:24.117085Z"
    }
   },
   "outputs": [
    {
     "data": {
      "text/html": [
       "<div>\n",
       "<style scoped>\n",
       "    .dataframe tbody tr th:only-of-type {\n",
       "        vertical-align: middle;\n",
       "    }\n",
       "\n",
       "    .dataframe tbody tr th {\n",
       "        vertical-align: top;\n",
       "    }\n",
       "\n",
       "    .dataframe thead th {\n",
       "        text-align: right;\n",
       "    }\n",
       "</style>\n",
       "<table border=\"1\" class=\"dataframe\">\n",
       "  <thead>\n",
       "    <tr style=\"text-align: right;\">\n",
       "      <th></th>\n",
       "      <th>Neighbourhood</th>\n",
       "      <th>American Restaurant</th>\n",
       "      <th>BBQ Joint</th>\n",
       "      <th>Bagel Shop</th>\n",
       "      <th>Breakfast Spot</th>\n",
       "      <th>Brewery</th>\n",
       "      <th>Burger Joint</th>\n",
       "      <th>Bus Line</th>\n",
       "      <th>Café</th>\n",
       "      <th>Chinese Restaurant</th>\n",
       "      <th>...</th>\n",
       "      <th>Sports Bar</th>\n",
       "      <th>Supermarket</th>\n",
       "      <th>Sushi Restaurant</th>\n",
       "      <th>Swim School</th>\n",
       "      <th>Thai Restaurant</th>\n",
       "      <th>Toy / Game Store</th>\n",
       "      <th>Trail</th>\n",
       "      <th>Vegetarian / Vegan Restaurant</th>\n",
       "      <th>Vietnamese Restaurant</th>\n",
       "      <th>Yoga Studio</th>\n",
       "    </tr>\n",
       "  </thead>\n",
       "  <tbody>\n",
       "    <tr>\n",
       "      <td>0</td>\n",
       "      <td>Davisville</td>\n",
       "      <td>0.028571</td>\n",
       "      <td>0.00</td>\n",
       "      <td>0.000000</td>\n",
       "      <td>0.000000</td>\n",
       "      <td>0.028571</td>\n",
       "      <td>0.000000</td>\n",
       "      <td>0.00</td>\n",
       "      <td>0.057143</td>\n",
       "      <td>0.000000</td>\n",
       "      <td>...</td>\n",
       "      <td>0.000000</td>\n",
       "      <td>0.000000</td>\n",
       "      <td>0.057143</td>\n",
       "      <td>0.00</td>\n",
       "      <td>0.028571</td>\n",
       "      <td>0.028571</td>\n",
       "      <td>0.00</td>\n",
       "      <td>0.00</td>\n",
       "      <td>0.000000</td>\n",
       "      <td>0.000000</td>\n",
       "    </tr>\n",
       "    <tr>\n",
       "      <td>1</td>\n",
       "      <td>Davisville North</td>\n",
       "      <td>0.000000</td>\n",
       "      <td>0.00</td>\n",
       "      <td>0.000000</td>\n",
       "      <td>0.111111</td>\n",
       "      <td>0.000000</td>\n",
       "      <td>0.000000</td>\n",
       "      <td>0.00</td>\n",
       "      <td>0.000000</td>\n",
       "      <td>0.000000</td>\n",
       "      <td>...</td>\n",
       "      <td>0.000000</td>\n",
       "      <td>0.000000</td>\n",
       "      <td>0.000000</td>\n",
       "      <td>0.00</td>\n",
       "      <td>0.000000</td>\n",
       "      <td>0.000000</td>\n",
       "      <td>0.00</td>\n",
       "      <td>0.00</td>\n",
       "      <td>0.000000</td>\n",
       "      <td>0.000000</td>\n",
       "    </tr>\n",
       "    <tr>\n",
       "      <td>2</td>\n",
       "      <td>Deer Park,Forest Hill SE,Rathnelly,South Hill,...</td>\n",
       "      <td>0.066667</td>\n",
       "      <td>0.00</td>\n",
       "      <td>0.066667</td>\n",
       "      <td>0.000000</td>\n",
       "      <td>0.000000</td>\n",
       "      <td>0.000000</td>\n",
       "      <td>0.00</td>\n",
       "      <td>0.000000</td>\n",
       "      <td>0.000000</td>\n",
       "      <td>...</td>\n",
       "      <td>0.066667</td>\n",
       "      <td>0.066667</td>\n",
       "      <td>0.066667</td>\n",
       "      <td>0.00</td>\n",
       "      <td>0.000000</td>\n",
       "      <td>0.000000</td>\n",
       "      <td>0.00</td>\n",
       "      <td>0.00</td>\n",
       "      <td>0.066667</td>\n",
       "      <td>0.000000</td>\n",
       "    </tr>\n",
       "    <tr>\n",
       "      <td>3</td>\n",
       "      <td>Forest Hill North,Forest Hill West</td>\n",
       "      <td>0.000000</td>\n",
       "      <td>0.00</td>\n",
       "      <td>0.000000</td>\n",
       "      <td>0.000000</td>\n",
       "      <td>0.000000</td>\n",
       "      <td>0.000000</td>\n",
       "      <td>0.00</td>\n",
       "      <td>0.000000</td>\n",
       "      <td>0.000000</td>\n",
       "      <td>...</td>\n",
       "      <td>0.000000</td>\n",
       "      <td>0.000000</td>\n",
       "      <td>0.250000</td>\n",
       "      <td>0.00</td>\n",
       "      <td>0.000000</td>\n",
       "      <td>0.000000</td>\n",
       "      <td>0.25</td>\n",
       "      <td>0.00</td>\n",
       "      <td>0.000000</td>\n",
       "      <td>0.000000</td>\n",
       "    </tr>\n",
       "    <tr>\n",
       "      <td>4</td>\n",
       "      <td>Lawrence Park</td>\n",
       "      <td>0.000000</td>\n",
       "      <td>0.00</td>\n",
       "      <td>0.000000</td>\n",
       "      <td>0.000000</td>\n",
       "      <td>0.000000</td>\n",
       "      <td>0.000000</td>\n",
       "      <td>0.25</td>\n",
       "      <td>0.000000</td>\n",
       "      <td>0.000000</td>\n",
       "      <td>...</td>\n",
       "      <td>0.000000</td>\n",
       "      <td>0.000000</td>\n",
       "      <td>0.000000</td>\n",
       "      <td>0.25</td>\n",
       "      <td>0.000000</td>\n",
       "      <td>0.000000</td>\n",
       "      <td>0.00</td>\n",
       "      <td>0.00</td>\n",
       "      <td>0.000000</td>\n",
       "      <td>0.000000</td>\n",
       "    </tr>\n",
       "    <tr>\n",
       "      <td>5</td>\n",
       "      <td>Moore Park,Summerhill East</td>\n",
       "      <td>0.000000</td>\n",
       "      <td>0.00</td>\n",
       "      <td>0.000000</td>\n",
       "      <td>0.000000</td>\n",
       "      <td>0.000000</td>\n",
       "      <td>0.000000</td>\n",
       "      <td>0.00</td>\n",
       "      <td>0.000000</td>\n",
       "      <td>0.000000</td>\n",
       "      <td>...</td>\n",
       "      <td>0.000000</td>\n",
       "      <td>0.000000</td>\n",
       "      <td>0.000000</td>\n",
       "      <td>0.00</td>\n",
       "      <td>0.000000</td>\n",
       "      <td>0.000000</td>\n",
       "      <td>0.00</td>\n",
       "      <td>0.00</td>\n",
       "      <td>0.000000</td>\n",
       "      <td>0.000000</td>\n",
       "    </tr>\n",
       "    <tr>\n",
       "      <td>6</td>\n",
       "      <td>North Toronto West</td>\n",
       "      <td>0.000000</td>\n",
       "      <td>0.00</td>\n",
       "      <td>0.000000</td>\n",
       "      <td>0.000000</td>\n",
       "      <td>0.000000</td>\n",
       "      <td>0.045455</td>\n",
       "      <td>0.00</td>\n",
       "      <td>0.000000</td>\n",
       "      <td>0.045455</td>\n",
       "      <td>...</td>\n",
       "      <td>0.000000</td>\n",
       "      <td>0.000000</td>\n",
       "      <td>0.000000</td>\n",
       "      <td>0.00</td>\n",
       "      <td>0.000000</td>\n",
       "      <td>0.045455</td>\n",
       "      <td>0.00</td>\n",
       "      <td>0.00</td>\n",
       "      <td>0.000000</td>\n",
       "      <td>0.045455</td>\n",
       "    </tr>\n",
       "    <tr>\n",
       "      <td>7</td>\n",
       "      <td>Roselawn</td>\n",
       "      <td>0.000000</td>\n",
       "      <td>0.00</td>\n",
       "      <td>0.000000</td>\n",
       "      <td>0.000000</td>\n",
       "      <td>0.000000</td>\n",
       "      <td>0.000000</td>\n",
       "      <td>0.00</td>\n",
       "      <td>0.000000</td>\n",
       "      <td>0.000000</td>\n",
       "      <td>...</td>\n",
       "      <td>0.000000</td>\n",
       "      <td>0.000000</td>\n",
       "      <td>0.000000</td>\n",
       "      <td>0.00</td>\n",
       "      <td>0.000000</td>\n",
       "      <td>0.000000</td>\n",
       "      <td>0.00</td>\n",
       "      <td>0.00</td>\n",
       "      <td>0.000000</td>\n",
       "      <td>0.000000</td>\n",
       "    </tr>\n",
       "    <tr>\n",
       "      <td>8</td>\n",
       "      <td>The Annex,North Midtown,Yorkville</td>\n",
       "      <td>0.050000</td>\n",
       "      <td>0.05</td>\n",
       "      <td>0.000000</td>\n",
       "      <td>0.000000</td>\n",
       "      <td>0.000000</td>\n",
       "      <td>0.050000</td>\n",
       "      <td>0.00</td>\n",
       "      <td>0.150000</td>\n",
       "      <td>0.000000</td>\n",
       "      <td>...</td>\n",
       "      <td>0.000000</td>\n",
       "      <td>0.000000</td>\n",
       "      <td>0.000000</td>\n",
       "      <td>0.00</td>\n",
       "      <td>0.000000</td>\n",
       "      <td>0.000000</td>\n",
       "      <td>0.00</td>\n",
       "      <td>0.05</td>\n",
       "      <td>0.000000</td>\n",
       "      <td>0.000000</td>\n",
       "    </tr>\n",
       "  </tbody>\n",
       "</table>\n",
       "<p>9 rows × 57 columns</p>\n",
       "</div>"
      ],
      "text/plain": [
       "                                       Neighbourhood  American Restaurant  \\\n",
       "0                                         Davisville             0.028571   \n",
       "1                                   Davisville North             0.000000   \n",
       "2  Deer Park,Forest Hill SE,Rathnelly,South Hill,...             0.066667   \n",
       "3                 Forest Hill North,Forest Hill West             0.000000   \n",
       "4                                      Lawrence Park             0.000000   \n",
       "5                         Moore Park,Summerhill East             0.000000   \n",
       "6                                 North Toronto West             0.000000   \n",
       "7                                           Roselawn             0.000000   \n",
       "8                  The Annex,North Midtown,Yorkville             0.050000   \n",
       "\n",
       "   BBQ Joint  Bagel Shop  Breakfast Spot   Brewery  Burger Joint  Bus Line  \\\n",
       "0       0.00    0.000000        0.000000  0.028571      0.000000      0.00   \n",
       "1       0.00    0.000000        0.111111  0.000000      0.000000      0.00   \n",
       "2       0.00    0.066667        0.000000  0.000000      0.000000      0.00   \n",
       "3       0.00    0.000000        0.000000  0.000000      0.000000      0.00   \n",
       "4       0.00    0.000000        0.000000  0.000000      0.000000      0.25   \n",
       "5       0.00    0.000000        0.000000  0.000000      0.000000      0.00   \n",
       "6       0.00    0.000000        0.000000  0.000000      0.045455      0.00   \n",
       "7       0.00    0.000000        0.000000  0.000000      0.000000      0.00   \n",
       "8       0.05    0.000000        0.000000  0.000000      0.050000      0.00   \n",
       "\n",
       "       Café  Chinese Restaurant  ...  Sports Bar  Supermarket  \\\n",
       "0  0.057143            0.000000  ...    0.000000     0.000000   \n",
       "1  0.000000            0.000000  ...    0.000000     0.000000   \n",
       "2  0.000000            0.000000  ...    0.066667     0.066667   \n",
       "3  0.000000            0.000000  ...    0.000000     0.000000   \n",
       "4  0.000000            0.000000  ...    0.000000     0.000000   \n",
       "5  0.000000            0.000000  ...    0.000000     0.000000   \n",
       "6  0.000000            0.045455  ...    0.000000     0.000000   \n",
       "7  0.000000            0.000000  ...    0.000000     0.000000   \n",
       "8  0.150000            0.000000  ...    0.000000     0.000000   \n",
       "\n",
       "   Sushi Restaurant  Swim School  Thai Restaurant  Toy / Game Store  Trail  \\\n",
       "0          0.057143         0.00         0.028571          0.028571   0.00   \n",
       "1          0.000000         0.00         0.000000          0.000000   0.00   \n",
       "2          0.066667         0.00         0.000000          0.000000   0.00   \n",
       "3          0.250000         0.00         0.000000          0.000000   0.25   \n",
       "4          0.000000         0.25         0.000000          0.000000   0.00   \n",
       "5          0.000000         0.00         0.000000          0.000000   0.00   \n",
       "6          0.000000         0.00         0.000000          0.045455   0.00   \n",
       "7          0.000000         0.00         0.000000          0.000000   0.00   \n",
       "8          0.000000         0.00         0.000000          0.000000   0.00   \n",
       "\n",
       "   Vegetarian / Vegan Restaurant  Vietnamese Restaurant  Yoga Studio  \n",
       "0                           0.00               0.000000     0.000000  \n",
       "1                           0.00               0.000000     0.000000  \n",
       "2                           0.00               0.066667     0.000000  \n",
       "3                           0.00               0.000000     0.000000  \n",
       "4                           0.00               0.000000     0.000000  \n",
       "5                           0.00               0.000000     0.000000  \n",
       "6                           0.00               0.000000     0.045455  \n",
       "7                           0.00               0.000000     0.000000  \n",
       "8                           0.05               0.000000     0.000000  \n",
       "\n",
       "[9 rows x 57 columns]"
      ]
     },
     "execution_count": 66,
     "metadata": {},
     "output_type": "execute_result"
    }
   ],
   "source": [
    "central_toronto_grouped = central_toronto_onehot.groupby(COL_NAME_NEIGHBOURHOOD).mean().reset_index()\n",
    "central_toronto_grouped"
   ]
  },
  {
   "cell_type": "markdown",
   "metadata": {},
   "source": [
    "### Let's confirm the new size"
   ]
  },
  {
   "cell_type": "code",
   "execution_count": 67,
   "metadata": {
    "ExecuteTime": {
     "end_time": "2019-12-14T20:42:24.155689Z",
     "start_time": "2019-12-14T20:42:24.152715Z"
    }
   },
   "outputs": [
    {
     "data": {
      "text/plain": [
       "(9, 57)"
      ]
     },
     "execution_count": 67,
     "metadata": {},
     "output_type": "execute_result"
    }
   ],
   "source": [
    "central_toronto_grouped.shape"
   ]
  },
  {
   "cell_type": "markdown",
   "metadata": {},
   "source": [
    "### Let's print each neighborhood along with the top 5 most common venues"
   ]
  },
  {
   "cell_type": "code",
   "execution_count": 68,
   "metadata": {
    "ExecuteTime": {
     "end_time": "2019-12-14T20:42:24.224258Z",
     "start_time": "2019-12-14T20:42:24.157047Z"
    }
   },
   "outputs": [
    {
     "name": "stdout",
     "output_type": "stream",
     "text": [
      "----Davisville----\n",
      "            Venue  freq\n",
      "0     Pizza Place  0.09\n",
      "1  Sandwich Place  0.09\n",
      "2    Dessert Shop  0.09\n",
      "3             Gym  0.06\n",
      "4     Coffee Shop  0.06\n",
      "\n",
      "\n",
      "----Davisville North----\n",
      "               Venue  freq\n",
      "0              Hotel  0.22\n",
      "1  Food & Drink Shop  0.11\n",
      "2     Breakfast Spot  0.11\n",
      "3               Park  0.11\n",
      "4        Pizza Place  0.11\n",
      "\n",
      "\n",
      "----Deer Park,Forest Hill SE,Rathnelly,South Hill,Summerhill West----\n",
      "                 Venue  freq\n",
      "0          Coffee Shop  0.13\n",
      "1                  Pub  0.13\n",
      "2  American Restaurant  0.07\n",
      "3         Liquor Store  0.07\n",
      "4          Pizza Place  0.07\n",
      "\n",
      "\n",
      "----Forest Hill North,Forest Hill West----\n",
      "                 Venue  freq\n",
      "0        Jewelry Store  0.25\n",
      "1                Trail  0.25\n",
      "2                 Park  0.25\n",
      "3     Sushi Restaurant  0.25\n",
      "4  American Restaurant  0.00\n",
      "\n",
      "\n",
      "----Lawrence Park----\n",
      "                  Venue  freq\n",
      "0                  Park  0.25\n",
      "1              Bus Line  0.25\n",
      "2           Swim School  0.25\n",
      "3  Gym / Fitness Center  0.25\n",
      "4   American Restaurant  0.00\n",
      "\n",
      "\n",
      "----Moore Park,Summerhill East----\n",
      "                 Venue  freq\n",
      "0         Intersection  0.33\n",
      "1           Playground  0.33\n",
      "2           Restaurant  0.33\n",
      "3  Japanese Restaurant  0.00\n",
      "4        Jewelry Store  0.00\n",
      "\n",
      "\n",
      "----North Toronto West----\n",
      "                 Venue  freq\n",
      "0       Clothing Store  0.14\n",
      "1  Sporting Goods Shop  0.09\n",
      "2          Coffee Shop  0.09\n",
      "3          Yoga Studio  0.05\n",
      "4         Dessert Shop  0.05\n",
      "\n",
      "\n",
      "----Roselawn----\n",
      "                     Venue  freq\n",
      "0  Health & Beauty Service   0.5\n",
      "1                   Garden   0.5\n",
      "2      American Restaurant   0.0\n",
      "3       Salon / Barbershop   0.0\n",
      "4       Light Rail Station   0.0\n",
      "\n",
      "\n",
      "----The Annex,North Midtown,Yorkville----\n",
      "               Venue  freq\n",
      "0     Sandwich Place  0.15\n",
      "1               Café  0.15\n",
      "2        Coffee Shop  0.10\n",
      "3  Indian Restaurant  0.05\n",
      "4       Liquor Store  0.05\n",
      "\n",
      "\n"
     ]
    }
   ],
   "source": [
    "num_top_venues = 5\n",
    "COL_NAME_FREQUENCE = 'freq'\n",
    "\n",
    "for hood in central_toronto_grouped[COL_NAME_NEIGHBOURHOOD]:\n",
    "    print(\"----\"+hood+\"----\")\n",
    "    temp = central_toronto_grouped[central_toronto_grouped[COL_NAME_NEIGHBOURHOOD] == hood].T.reset_index()\n",
    "    temp.columns = [COL_NAME_VENUE, COL_NAME_FREQUENCE]\n",
    "    temp = temp.iloc[1:]\n",
    "    temp[COL_NAME_FREQUENCE] = temp[COL_NAME_FREQUENCE].astype(float)\n",
    "    temp = temp.round({COL_NAME_FREQUENCE: 2})\n",
    "    print(temp.sort_values(COL_NAME_FREQUENCE, ascending=False).reset_index(drop=True).head(num_top_venues))\n",
    "    print('\\n')"
   ]
  },
  {
   "cell_type": "markdown",
   "metadata": {},
   "source": [
    "### Let's put that into a *pandas* dataframe\n",
    "\n",
    "First, let's write a function to sort the venues in descending order."
   ]
  },
  {
   "cell_type": "code",
   "execution_count": 69,
   "metadata": {
    "ExecuteTime": {
     "end_time": "2019-12-14T20:42:24.228676Z",
     "start_time": "2019-12-14T20:42:24.225735Z"
    }
   },
   "outputs": [],
   "source": [
    "def return_most_common_venues(row, num_top_venues):\n",
    "    row_categories = row.iloc[1:]\n",
    "    row_categories_sorted = row_categories.sort_values(ascending=False)\n",
    "    \n",
    "    return row_categories_sorted.index.values[0:num_top_venues]"
   ]
  },
  {
   "cell_type": "markdown",
   "metadata": {},
   "source": [
    "Now let's create the new dataframe and display the top 10 venues for each neighborhood."
   ]
  },
  {
   "cell_type": "code",
   "execution_count": 70,
   "metadata": {
    "ExecuteTime": {
     "end_time": "2019-12-14T20:42:24.274059Z",
     "start_time": "2019-12-14T20:42:24.230087Z"
    }
   },
   "outputs": [
    {
     "data": {
      "text/html": [
       "<div>\n",
       "<style scoped>\n",
       "    .dataframe tbody tr th:only-of-type {\n",
       "        vertical-align: middle;\n",
       "    }\n",
       "\n",
       "    .dataframe tbody tr th {\n",
       "        vertical-align: top;\n",
       "    }\n",
       "\n",
       "    .dataframe thead th {\n",
       "        text-align: right;\n",
       "    }\n",
       "</style>\n",
       "<table border=\"1\" class=\"dataframe\">\n",
       "  <thead>\n",
       "    <tr style=\"text-align: right;\">\n",
       "      <th></th>\n",
       "      <th>Neighbourhood</th>\n",
       "      <th>1st Most Common Venue</th>\n",
       "      <th>2nd Most Common Venue</th>\n",
       "      <th>3rd Most Common Venue</th>\n",
       "      <th>4th Most Common Venue</th>\n",
       "      <th>5th Most Common Venue</th>\n",
       "      <th>6th Most Common Venue</th>\n",
       "      <th>7th Most Common Venue</th>\n",
       "      <th>8th Most Common Venue</th>\n",
       "      <th>9th Most Common Venue</th>\n",
       "      <th>10th Most Common Venue</th>\n",
       "    </tr>\n",
       "  </thead>\n",
       "  <tbody>\n",
       "    <tr>\n",
       "      <td>0</td>\n",
       "      <td>Davisville</td>\n",
       "      <td>Pizza Place</td>\n",
       "      <td>Sandwich Place</td>\n",
       "      <td>Dessert Shop</td>\n",
       "      <td>Sushi Restaurant</td>\n",
       "      <td>Café</td>\n",
       "      <td>Gym</td>\n",
       "      <td>Coffee Shop</td>\n",
       "      <td>Italian Restaurant</td>\n",
       "      <td>Japanese Restaurant</td>\n",
       "      <td>Diner</td>\n",
       "    </tr>\n",
       "    <tr>\n",
       "      <td>1</td>\n",
       "      <td>Davisville North</td>\n",
       "      <td>Hotel</td>\n",
       "      <td>Breakfast Spot</td>\n",
       "      <td>Gym</td>\n",
       "      <td>Park</td>\n",
       "      <td>Clothing Store</td>\n",
       "      <td>Pizza Place</td>\n",
       "      <td>Sandwich Place</td>\n",
       "      <td>Food &amp; Drink Shop</td>\n",
       "      <td>Yoga Studio</td>\n",
       "      <td>Farmers Market</td>\n",
       "    </tr>\n",
       "    <tr>\n",
       "      <td>2</td>\n",
       "      <td>Deer Park,Forest Hill SE,Rathnelly,South Hill,...</td>\n",
       "      <td>Pub</td>\n",
       "      <td>Coffee Shop</td>\n",
       "      <td>American Restaurant</td>\n",
       "      <td>Supermarket</td>\n",
       "      <td>Restaurant</td>\n",
       "      <td>Liquor Store</td>\n",
       "      <td>Light Rail Station</td>\n",
       "      <td>Sports Bar</td>\n",
       "      <td>Fried Chicken Joint</td>\n",
       "      <td>Sushi Restaurant</td>\n",
       "    </tr>\n",
       "    <tr>\n",
       "      <td>3</td>\n",
       "      <td>Forest Hill North,Forest Hill West</td>\n",
       "      <td>Trail</td>\n",
       "      <td>Jewelry Store</td>\n",
       "      <td>Sushi Restaurant</td>\n",
       "      <td>Park</td>\n",
       "      <td>Yoga Studio</td>\n",
       "      <td>Dessert Shop</td>\n",
       "      <td>Health &amp; Beauty Service</td>\n",
       "      <td>Gym / Fitness Center</td>\n",
       "      <td>Gym</td>\n",
       "      <td>Greek Restaurant</td>\n",
       "    </tr>\n",
       "    <tr>\n",
       "      <td>4</td>\n",
       "      <td>Lawrence Park</td>\n",
       "      <td>Gym / Fitness Center</td>\n",
       "      <td>Swim School</td>\n",
       "      <td>Bus Line</td>\n",
       "      <td>Park</td>\n",
       "      <td>Yoga Studio</td>\n",
       "      <td>Diner</td>\n",
       "      <td>History Museum</td>\n",
       "      <td>Health &amp; Beauty Service</td>\n",
       "      <td>Gym</td>\n",
       "      <td>Greek Restaurant</td>\n",
       "    </tr>\n",
       "  </tbody>\n",
       "</table>\n",
       "</div>"
      ],
      "text/plain": [
       "                                       Neighbourhood 1st Most Common Venue  \\\n",
       "0                                         Davisville           Pizza Place   \n",
       "1                                   Davisville North                 Hotel   \n",
       "2  Deer Park,Forest Hill SE,Rathnelly,South Hill,...                   Pub   \n",
       "3                 Forest Hill North,Forest Hill West                 Trail   \n",
       "4                                      Lawrence Park  Gym / Fitness Center   \n",
       "\n",
       "  2nd Most Common Venue 3rd Most Common Venue 4th Most Common Venue  \\\n",
       "0        Sandwich Place          Dessert Shop      Sushi Restaurant   \n",
       "1        Breakfast Spot                   Gym                  Park   \n",
       "2           Coffee Shop   American Restaurant           Supermarket   \n",
       "3         Jewelry Store      Sushi Restaurant                  Park   \n",
       "4           Swim School              Bus Line                  Park   \n",
       "\n",
       "  5th Most Common Venue 6th Most Common Venue    7th Most Common Venue  \\\n",
       "0                  Café                   Gym              Coffee Shop   \n",
       "1        Clothing Store           Pizza Place           Sandwich Place   \n",
       "2            Restaurant          Liquor Store       Light Rail Station   \n",
       "3           Yoga Studio          Dessert Shop  Health & Beauty Service   \n",
       "4           Yoga Studio                 Diner           History Museum   \n",
       "\n",
       "     8th Most Common Venue 9th Most Common Venue 10th Most Common Venue  \n",
       "0       Italian Restaurant   Japanese Restaurant                  Diner  \n",
       "1        Food & Drink Shop           Yoga Studio         Farmers Market  \n",
       "2               Sports Bar   Fried Chicken Joint       Sushi Restaurant  \n",
       "3     Gym / Fitness Center                   Gym       Greek Restaurant  \n",
       "4  Health & Beauty Service                   Gym       Greek Restaurant  "
      ]
     },
     "execution_count": 70,
     "metadata": {},
     "output_type": "execute_result"
    }
   ],
   "source": [
    "import numpy as np\n",
    "\n",
    "num_top_venues = 10\n",
    "\n",
    "indicators = ['st', 'nd', 'rd']\n",
    "\n",
    "# create columns according to number of top venues\n",
    "columns = [COL_NAME_NEIGHBOURHOOD]\n",
    "for ind in np.arange(num_top_venues):\n",
    "    try:\n",
    "        columns.append('{}{} Most Common Venue'.format(ind+1, indicators[ind]))\n",
    "    except:\n",
    "        columns.append('{}th Most Common Venue'.format(ind+1))\n",
    "\n",
    "# create a new dataframe\n",
    "neighborhoods_venues_sorted = pd.DataFrame(columns=columns)\n",
    "neighborhoods_venues_sorted[COL_NAME_NEIGHBOURHOOD] = central_toronto_grouped[COL_NAME_NEIGHBOURHOOD]\n",
    "\n",
    "for ind in np.arange(central_toronto_grouped.shape[0]):\n",
    "    neighborhoods_venues_sorted.iloc[ind, 1:] = return_most_common_venues(central_toronto_grouped.iloc[ind, :], \n",
    "                                                                          num_top_venues)\n",
    "\n",
    "neighborhoods_venues_sorted.head()"
   ]
  },
  {
   "cell_type": "markdown",
   "metadata": {},
   "source": [
    "## Clustering Neighborhoods  of Central Toronto, Canada\n",
    "\n",
    "Run *k*-means to cluster the neighborhood into 5 clusters."
   ]
  },
  {
   "cell_type": "code",
   "execution_count": 71,
   "metadata": {
    "ExecuteTime": {
     "end_time": "2019-12-14T20:42:24.603631Z",
     "start_time": "2019-12-14T20:42:24.275634Z"
    }
   },
   "outputs": [
    {
     "data": {
      "text/plain": [
       "array([0, 0, 0, 4, 3, 2, 0, 1, 0], dtype=int32)"
      ]
     },
     "execution_count": 71,
     "metadata": {},
     "output_type": "execute_result"
    }
   ],
   "source": [
    "# import k-means from clustering stage\n",
    "from sklearn.cluster import KMeans\n",
    "\n",
    "# set number of clusters\n",
    "kclusters = 5\n",
    "\n",
    "central_toronto_grouped_clustering = central_toronto_grouped.drop(COL_NAME_NEIGHBOURHOOD, 1)\n",
    "\n",
    "# run k-means clustering\n",
    "kmeans = KMeans(n_clusters=kclusters, random_state=0).fit(central_toronto_grouped_clustering)\n",
    "\n",
    "# check cluster labels generated for each row in the dataframe\n",
    "kmeans.labels_[0:10] "
   ]
  },
  {
   "cell_type": "code",
   "execution_count": 72,
   "metadata": {
    "ExecuteTime": {
     "end_time": "2019-12-14T20:42:24.613245Z",
     "start_time": "2019-12-14T20:42:24.605065Z"
    }
   },
   "outputs": [
    {
     "data": {
      "text/html": [
       "<div>\n",
       "<style scoped>\n",
       "    .dataframe tbody tr th:only-of-type {\n",
       "        vertical-align: middle;\n",
       "    }\n",
       "\n",
       "    .dataframe tbody tr th {\n",
       "        vertical-align: top;\n",
       "    }\n",
       "\n",
       "    .dataframe thead th {\n",
       "        text-align: right;\n",
       "    }\n",
       "</style>\n",
       "<table border=\"1\" class=\"dataframe\">\n",
       "  <thead>\n",
       "    <tr style=\"text-align: right;\">\n",
       "      <th></th>\n",
       "      <th>Postcode</th>\n",
       "      <th>Borough</th>\n",
       "      <th>Neighbourhood</th>\n",
       "      <th>Latitude</th>\n",
       "      <th>Longitude</th>\n",
       "    </tr>\n",
       "  </thead>\n",
       "  <tbody>\n",
       "    <tr>\n",
       "      <td>0</td>\n",
       "      <td>M4N</td>\n",
       "      <td>Central Toronto</td>\n",
       "      <td>Lawrence Park</td>\n",
       "      <td>43.728020</td>\n",
       "      <td>-79.388790</td>\n",
       "    </tr>\n",
       "    <tr>\n",
       "      <td>1</td>\n",
       "      <td>M4P</td>\n",
       "      <td>Central Toronto</td>\n",
       "      <td>Davisville North</td>\n",
       "      <td>43.712751</td>\n",
       "      <td>-79.390197</td>\n",
       "    </tr>\n",
       "    <tr>\n",
       "      <td>2</td>\n",
       "      <td>M4R</td>\n",
       "      <td>Central Toronto</td>\n",
       "      <td>North Toronto West</td>\n",
       "      <td>43.715383</td>\n",
       "      <td>-79.405678</td>\n",
       "    </tr>\n",
       "    <tr>\n",
       "      <td>3</td>\n",
       "      <td>M4S</td>\n",
       "      <td>Central Toronto</td>\n",
       "      <td>Davisville</td>\n",
       "      <td>43.704324</td>\n",
       "      <td>-79.388790</td>\n",
       "    </tr>\n",
       "    <tr>\n",
       "      <td>4</td>\n",
       "      <td>M4T</td>\n",
       "      <td>Central Toronto</td>\n",
       "      <td>Moore Park,Summerhill East</td>\n",
       "      <td>43.689574</td>\n",
       "      <td>-79.383160</td>\n",
       "    </tr>\n",
       "  </tbody>\n",
       "</table>\n",
       "</div>"
      ],
      "text/plain": [
       "  Postcode          Borough               Neighbourhood   Latitude  Longitude\n",
       "0      M4N  Central Toronto               Lawrence Park  43.728020 -79.388790\n",
       "1      M4P  Central Toronto            Davisville North  43.712751 -79.390197\n",
       "2      M4R  Central Toronto          North Toronto West  43.715383 -79.405678\n",
       "3      M4S  Central Toronto                  Davisville  43.704324 -79.388790\n",
       "4      M4T  Central Toronto  Moore Park,Summerhill East  43.689574 -79.383160"
      ]
     },
     "execution_count": 72,
     "metadata": {},
     "output_type": "execute_result"
    }
   ],
   "source": [
    "df_central_toronto.head()"
   ]
  },
  {
   "cell_type": "markdown",
   "metadata": {},
   "source": [
    "Let's create a new dataframe that includes the cluster as well as the top 10 venues for each neighborhood."
   ]
  },
  {
   "cell_type": "code",
   "execution_count": 73,
   "metadata": {
    "ExecuteTime": {
     "end_time": "2019-12-14T20:42:24.645471Z",
     "start_time": "2019-12-14T20:42:24.614549Z"
    }
   },
   "outputs": [
    {
     "data": {
      "text/html": [
       "<div>\n",
       "<style scoped>\n",
       "    .dataframe tbody tr th:only-of-type {\n",
       "        vertical-align: middle;\n",
       "    }\n",
       "\n",
       "    .dataframe tbody tr th {\n",
       "        vertical-align: top;\n",
       "    }\n",
       "\n",
       "    .dataframe thead th {\n",
       "        text-align: right;\n",
       "    }\n",
       "</style>\n",
       "<table border=\"1\" class=\"dataframe\">\n",
       "  <thead>\n",
       "    <tr style=\"text-align: right;\">\n",
       "      <th></th>\n",
       "      <th>Postcode</th>\n",
       "      <th>Borough</th>\n",
       "      <th>Neighbourhood</th>\n",
       "      <th>Latitude</th>\n",
       "      <th>Longitude</th>\n",
       "      <th>Cluster Labels</th>\n",
       "      <th>1st Most Common Venue</th>\n",
       "      <th>2nd Most Common Venue</th>\n",
       "      <th>3rd Most Common Venue</th>\n",
       "      <th>4th Most Common Venue</th>\n",
       "      <th>5th Most Common Venue</th>\n",
       "      <th>6th Most Common Venue</th>\n",
       "      <th>7th Most Common Venue</th>\n",
       "      <th>8th Most Common Venue</th>\n",
       "      <th>9th Most Common Venue</th>\n",
       "      <th>10th Most Common Venue</th>\n",
       "    </tr>\n",
       "  </thead>\n",
       "  <tbody>\n",
       "    <tr>\n",
       "      <td>0</td>\n",
       "      <td>M4N</td>\n",
       "      <td>Central Toronto</td>\n",
       "      <td>Lawrence Park</td>\n",
       "      <td>43.728020</td>\n",
       "      <td>-79.388790</td>\n",
       "      <td>3</td>\n",
       "      <td>Gym / Fitness Center</td>\n",
       "      <td>Swim School</td>\n",
       "      <td>Bus Line</td>\n",
       "      <td>Park</td>\n",
       "      <td>Yoga Studio</td>\n",
       "      <td>Diner</td>\n",
       "      <td>History Museum</td>\n",
       "      <td>Health &amp; Beauty Service</td>\n",
       "      <td>Gym</td>\n",
       "      <td>Greek Restaurant</td>\n",
       "    </tr>\n",
       "    <tr>\n",
       "      <td>1</td>\n",
       "      <td>M4P</td>\n",
       "      <td>Central Toronto</td>\n",
       "      <td>Davisville North</td>\n",
       "      <td>43.712751</td>\n",
       "      <td>-79.390197</td>\n",
       "      <td>0</td>\n",
       "      <td>Hotel</td>\n",
       "      <td>Breakfast Spot</td>\n",
       "      <td>Gym</td>\n",
       "      <td>Park</td>\n",
       "      <td>Clothing Store</td>\n",
       "      <td>Pizza Place</td>\n",
       "      <td>Sandwich Place</td>\n",
       "      <td>Food &amp; Drink Shop</td>\n",
       "      <td>Yoga Studio</td>\n",
       "      <td>Farmers Market</td>\n",
       "    </tr>\n",
       "    <tr>\n",
       "      <td>2</td>\n",
       "      <td>M4R</td>\n",
       "      <td>Central Toronto</td>\n",
       "      <td>North Toronto West</td>\n",
       "      <td>43.715383</td>\n",
       "      <td>-79.405678</td>\n",
       "      <td>0</td>\n",
       "      <td>Clothing Store</td>\n",
       "      <td>Coffee Shop</td>\n",
       "      <td>Sporting Goods Shop</td>\n",
       "      <td>Yoga Studio</td>\n",
       "      <td>Diner</td>\n",
       "      <td>Mexican Restaurant</td>\n",
       "      <td>Park</td>\n",
       "      <td>Dessert Shop</td>\n",
       "      <td>Cosmetics Shop</td>\n",
       "      <td>Health &amp; Beauty Service</td>\n",
       "    </tr>\n",
       "    <tr>\n",
       "      <td>3</td>\n",
       "      <td>M4S</td>\n",
       "      <td>Central Toronto</td>\n",
       "      <td>Davisville</td>\n",
       "      <td>43.704324</td>\n",
       "      <td>-79.388790</td>\n",
       "      <td>0</td>\n",
       "      <td>Pizza Place</td>\n",
       "      <td>Sandwich Place</td>\n",
       "      <td>Dessert Shop</td>\n",
       "      <td>Sushi Restaurant</td>\n",
       "      <td>Café</td>\n",
       "      <td>Gym</td>\n",
       "      <td>Coffee Shop</td>\n",
       "      <td>Italian Restaurant</td>\n",
       "      <td>Japanese Restaurant</td>\n",
       "      <td>Diner</td>\n",
       "    </tr>\n",
       "    <tr>\n",
       "      <td>4</td>\n",
       "      <td>M4T</td>\n",
       "      <td>Central Toronto</td>\n",
       "      <td>Moore Park,Summerhill East</td>\n",
       "      <td>43.689574</td>\n",
       "      <td>-79.383160</td>\n",
       "      <td>2</td>\n",
       "      <td>Intersection</td>\n",
       "      <td>Restaurant</td>\n",
       "      <td>Playground</td>\n",
       "      <td>History Museum</td>\n",
       "      <td>Health &amp; Beauty Service</td>\n",
       "      <td>Gym / Fitness Center</td>\n",
       "      <td>Gym</td>\n",
       "      <td>Greek Restaurant</td>\n",
       "      <td>Gourmet Shop</td>\n",
       "      <td>Garden</td>\n",
       "    </tr>\n",
       "  </tbody>\n",
       "</table>\n",
       "</div>"
      ],
      "text/plain": [
       "  Postcode          Borough               Neighbourhood   Latitude  Longitude  \\\n",
       "0      M4N  Central Toronto               Lawrence Park  43.728020 -79.388790   \n",
       "1      M4P  Central Toronto            Davisville North  43.712751 -79.390197   \n",
       "2      M4R  Central Toronto          North Toronto West  43.715383 -79.405678   \n",
       "3      M4S  Central Toronto                  Davisville  43.704324 -79.388790   \n",
       "4      M4T  Central Toronto  Moore Park,Summerhill East  43.689574 -79.383160   \n",
       "\n",
       "   Cluster Labels 1st Most Common Venue 2nd Most Common Venue  \\\n",
       "0               3  Gym / Fitness Center           Swim School   \n",
       "1               0                 Hotel        Breakfast Spot   \n",
       "2               0        Clothing Store           Coffee Shop   \n",
       "3               0           Pizza Place        Sandwich Place   \n",
       "4               2          Intersection            Restaurant   \n",
       "\n",
       "  3rd Most Common Venue 4th Most Common Venue    5th Most Common Venue  \\\n",
       "0              Bus Line                  Park              Yoga Studio   \n",
       "1                   Gym                  Park           Clothing Store   \n",
       "2   Sporting Goods Shop           Yoga Studio                    Diner   \n",
       "3          Dessert Shop      Sushi Restaurant                     Café   \n",
       "4            Playground        History Museum  Health & Beauty Service   \n",
       "\n",
       "  6th Most Common Venue 7th Most Common Venue    8th Most Common Venue  \\\n",
       "0                 Diner        History Museum  Health & Beauty Service   \n",
       "1           Pizza Place        Sandwich Place        Food & Drink Shop   \n",
       "2    Mexican Restaurant                  Park             Dessert Shop   \n",
       "3                   Gym           Coffee Shop       Italian Restaurant   \n",
       "4  Gym / Fitness Center                   Gym         Greek Restaurant   \n",
       "\n",
       "  9th Most Common Venue   10th Most Common Venue  \n",
       "0                   Gym         Greek Restaurant  \n",
       "1           Yoga Studio           Farmers Market  \n",
       "2        Cosmetics Shop  Health & Beauty Service  \n",
       "3   Japanese Restaurant                    Diner  \n",
       "4          Gourmet Shop                   Garden  "
      ]
     },
     "execution_count": 73,
     "metadata": {},
     "output_type": "execute_result"
    }
   ],
   "source": [
    "COL_NAME_CLUSTER_LABELS = 'Cluster Labels'\n",
    "\n",
    "# add clustering labels\n",
    "neighborhoods_venues_sorted.insert(0, COL_NAME_CLUSTER_LABELS, kmeans.labels_)\n",
    "\n",
    "df_central_toronto_merged = df_central_toronto\n",
    "\n",
    "# merge toronto_grouped with toronto_data to add latitude/longitude for each neighborhood\n",
    "df_central_toronto_merged = df_central_toronto_merged.join(neighborhoods_venues_sorted.set_index(COL_NAME_NEIGHBOURHOOD), \n",
    "                                                           on=COL_NAME_NEIGHBOURHOOD)\n",
    "\n",
    "df_central_toronto_merged.head() # check the last columns!"
   ]
  },
  {
   "cell_type": "markdown",
   "metadata": {},
   "source": [
    "Finally, let's visualize the resulting clusters"
   ]
  },
  {
   "cell_type": "code",
   "execution_count": 74,
   "metadata": {
    "ExecuteTime": {
     "end_time": "2019-12-14T20:42:25.043914Z",
     "start_time": "2019-12-14T20:42:24.646826Z"
    }
   },
   "outputs": [
    {
     "name": "stdout",
     "output_type": "stream",
     "text": [
      "The geograpical coordinate of Central Toronto, CA are 43.653963, -79.387207.\n"
     ]
    },
    {
     "data": {
      "text/html": [
       "<div style=\"width:100%;\"><div style=\"position:relative;width:100%;height:0;padding-bottom:60%;\"><iframe src=\"data:text/html;charset=utf-8;base64,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\" style=\"position:absolute;width:100%;height:100%;left:0;top:0;border:none !important;\" allowfullscreen webkitallowfullscreen mozallowfullscreen></iframe></div></div>"
      ],
      "text/plain": [
       "<folium.folium.Map at 0x7ff5fe25c198>"
      ]
     },
     "execution_count": 74,
     "metadata": {},
     "output_type": "execute_result"
    }
   ],
   "source": [
    "# Matplotlib and associated plotting modules\n",
    "import matplotlib.cm as cm\n",
    "import matplotlib.colors as colors\n",
    "\n",
    "# Let's get the geographical coordinates of **'Central Toronto', Canada**\n",
    "address = 'Central Toronto, CA'\n",
    "\n",
    "geolocator = Nominatim(user_agent=\"toronto_explorer\")\n",
    "location = geolocator.geocode(address)\n",
    "latitude = location.latitude\n",
    "longitude = location.longitude\n",
    "print('The geograpical coordinate of Central Toronto, CA are {}, {}.'.format(latitude, longitude))\n",
    "# ------------------------------------------------------------------------------------------------\n",
    "# create map\n",
    "map_clusters = folium.Map(location=[latitude, longitude], zoom_start=11)\n",
    "\n",
    "# set color scheme for the clusters\n",
    "x = np.arange(kclusters)\n",
    "ys = [i + x + (i*x)**2 for i in range(kclusters)]\n",
    "colors_array = cm.rainbow(np.linspace(0, 1, len(ys)))\n",
    "rainbow = [colors.rgb2hex(i) for i in colors_array]\n",
    "\n",
    "# add markers to the map\n",
    "markers_colors = []\n",
    "for lat, lon, poi, cluster in zip(df_central_toronto_merged[COL_NAME_LATITUDE], \n",
    "                                  df_central_toronto_merged[COL_NAME_LONGITUDE], \n",
    "                                  df_central_toronto_merged[COL_NAME_NEIGHBOURHOOD], \n",
    "                                  df_central_toronto_merged[COL_NAME_CLUSTER_LABELS]):\n",
    "    label = folium.Popup(str(poi) + ' Cluster ' + str(cluster), parse_html=True)\n",
    "    folium.CircleMarker(\n",
    "        [lat, lon],\n",
    "        radius=5,\n",
    "        popup=label,\n",
    "        color=rainbow[cluster-1],\n",
    "        fill=True,\n",
    "        fill_color=rainbow[cluster-1],\n",
    "        fill_opacity=0.7).add_to(map_clusters)\n",
    "       \n",
    "map_clusters"
   ]
  },
  {
   "cell_type": "markdown",
   "metadata": {},
   "source": [
    "<img src=\"images/w3_h3.png\">"
   ]
  },
  {
   "cell_type": "markdown",
   "metadata": {},
   "source": [
    "## Examining Clusters\n",
    "\n",
    "Now, you can examine each cluster and determine the discriminating venue categories that distinguish each cluster. Based on the defining categories, you can then assign a name to each cluster. I will leave this exercise to you."
   ]
  },
  {
   "cell_type": "markdown",
   "metadata": {},
   "source": [
    "### Cluster 1"
   ]
  },
  {
   "cell_type": "code",
   "execution_count": 75,
   "metadata": {
    "ExecuteTime": {
     "end_time": "2019-12-14T20:42:25.064863Z",
     "start_time": "2019-12-14T20:42:25.045702Z"
    }
   },
   "outputs": [
    {
     "data": {
      "text/html": [
       "<div>\n",
       "<style scoped>\n",
       "    .dataframe tbody tr th:only-of-type {\n",
       "        vertical-align: middle;\n",
       "    }\n",
       "\n",
       "    .dataframe tbody tr th {\n",
       "        vertical-align: top;\n",
       "    }\n",
       "\n",
       "    .dataframe thead th {\n",
       "        text-align: right;\n",
       "    }\n",
       "</style>\n",
       "<table border=\"1\" class=\"dataframe\">\n",
       "  <thead>\n",
       "    <tr style=\"text-align: right;\">\n",
       "      <th></th>\n",
       "      <th>Borough</th>\n",
       "      <th>Cluster Labels</th>\n",
       "      <th>1st Most Common Venue</th>\n",
       "      <th>2nd Most Common Venue</th>\n",
       "      <th>3rd Most Common Venue</th>\n",
       "      <th>4th Most Common Venue</th>\n",
       "      <th>5th Most Common Venue</th>\n",
       "      <th>6th Most Common Venue</th>\n",
       "      <th>7th Most Common Venue</th>\n",
       "      <th>8th Most Common Venue</th>\n",
       "      <th>9th Most Common Venue</th>\n",
       "      <th>10th Most Common Venue</th>\n",
       "    </tr>\n",
       "  </thead>\n",
       "  <tbody>\n",
       "    <tr>\n",
       "      <td>1</td>\n",
       "      <td>Central Toronto</td>\n",
       "      <td>0</td>\n",
       "      <td>Hotel</td>\n",
       "      <td>Breakfast Spot</td>\n",
       "      <td>Gym</td>\n",
       "      <td>Park</td>\n",
       "      <td>Clothing Store</td>\n",
       "      <td>Pizza Place</td>\n",
       "      <td>Sandwich Place</td>\n",
       "      <td>Food &amp; Drink Shop</td>\n",
       "      <td>Yoga Studio</td>\n",
       "      <td>Farmers Market</td>\n",
       "    </tr>\n",
       "    <tr>\n",
       "      <td>2</td>\n",
       "      <td>Central Toronto</td>\n",
       "      <td>0</td>\n",
       "      <td>Clothing Store</td>\n",
       "      <td>Coffee Shop</td>\n",
       "      <td>Sporting Goods Shop</td>\n",
       "      <td>Yoga Studio</td>\n",
       "      <td>Diner</td>\n",
       "      <td>Mexican Restaurant</td>\n",
       "      <td>Park</td>\n",
       "      <td>Dessert Shop</td>\n",
       "      <td>Cosmetics Shop</td>\n",
       "      <td>Health &amp; Beauty Service</td>\n",
       "    </tr>\n",
       "    <tr>\n",
       "      <td>3</td>\n",
       "      <td>Central Toronto</td>\n",
       "      <td>0</td>\n",
       "      <td>Pizza Place</td>\n",
       "      <td>Sandwich Place</td>\n",
       "      <td>Dessert Shop</td>\n",
       "      <td>Sushi Restaurant</td>\n",
       "      <td>Café</td>\n",
       "      <td>Gym</td>\n",
       "      <td>Coffee Shop</td>\n",
       "      <td>Italian Restaurant</td>\n",
       "      <td>Japanese Restaurant</td>\n",
       "      <td>Diner</td>\n",
       "    </tr>\n",
       "    <tr>\n",
       "      <td>5</td>\n",
       "      <td>Central Toronto</td>\n",
       "      <td>0</td>\n",
       "      <td>Pub</td>\n",
       "      <td>Coffee Shop</td>\n",
       "      <td>American Restaurant</td>\n",
       "      <td>Supermarket</td>\n",
       "      <td>Restaurant</td>\n",
       "      <td>Liquor Store</td>\n",
       "      <td>Light Rail Station</td>\n",
       "      <td>Sports Bar</td>\n",
       "      <td>Fried Chicken Joint</td>\n",
       "      <td>Sushi Restaurant</td>\n",
       "    </tr>\n",
       "    <tr>\n",
       "      <td>8</td>\n",
       "      <td>Central Toronto</td>\n",
       "      <td>0</td>\n",
       "      <td>Café</td>\n",
       "      <td>Sandwich Place</td>\n",
       "      <td>Coffee Shop</td>\n",
       "      <td>American Restaurant</td>\n",
       "      <td>Indian Restaurant</td>\n",
       "      <td>Liquor Store</td>\n",
       "      <td>Park</td>\n",
       "      <td>Pharmacy</td>\n",
       "      <td>Pizza Place</td>\n",
       "      <td>Pub</td>\n",
       "    </tr>\n",
       "  </tbody>\n",
       "</table>\n",
       "</div>"
      ],
      "text/plain": [
       "           Borough  Cluster Labels 1st Most Common Venue  \\\n",
       "1  Central Toronto               0                 Hotel   \n",
       "2  Central Toronto               0        Clothing Store   \n",
       "3  Central Toronto               0           Pizza Place   \n",
       "5  Central Toronto               0                   Pub   \n",
       "8  Central Toronto               0                  Café   \n",
       "\n",
       "  2nd Most Common Venue 3rd Most Common Venue 4th Most Common Venue  \\\n",
       "1        Breakfast Spot                   Gym                  Park   \n",
       "2           Coffee Shop   Sporting Goods Shop           Yoga Studio   \n",
       "3        Sandwich Place          Dessert Shop      Sushi Restaurant   \n",
       "5           Coffee Shop   American Restaurant           Supermarket   \n",
       "8        Sandwich Place           Coffee Shop   American Restaurant   \n",
       "\n",
       "  5th Most Common Venue 6th Most Common Venue 7th Most Common Venue  \\\n",
       "1        Clothing Store           Pizza Place        Sandwich Place   \n",
       "2                 Diner    Mexican Restaurant                  Park   \n",
       "3                  Café                   Gym           Coffee Shop   \n",
       "5            Restaurant          Liquor Store    Light Rail Station   \n",
       "8     Indian Restaurant          Liquor Store                  Park   \n",
       "\n",
       "  8th Most Common Venue 9th Most Common Venue   10th Most Common Venue  \n",
       "1     Food & Drink Shop           Yoga Studio           Farmers Market  \n",
       "2          Dessert Shop        Cosmetics Shop  Health & Beauty Service  \n",
       "3    Italian Restaurant   Japanese Restaurant                    Diner  \n",
       "5            Sports Bar   Fried Chicken Joint         Sushi Restaurant  \n",
       "8              Pharmacy           Pizza Place                      Pub  "
      ]
     },
     "execution_count": 75,
     "metadata": {},
     "output_type": "execute_result"
    }
   ],
   "source": [
    "df_temp = df_central_toronto_merged.copy()\n",
    "\n",
    "df_temp.loc[df_temp[COL_NAME_CLUSTER_LABELS] == 0, df_temp.columns[[1] + list(range(5, df_temp.shape[1]))]]"
   ]
  },
  {
   "cell_type": "markdown",
   "metadata": {},
   "source": [
    "### Cluster 2"
   ]
  },
  {
   "cell_type": "code",
   "execution_count": 76,
   "metadata": {
    "ExecuteTime": {
     "end_time": "2019-12-14T20:42:25.091608Z",
     "start_time": "2019-12-14T20:42:25.066102Z"
    }
   },
   "outputs": [
    {
     "data": {
      "text/html": [
       "<div>\n",
       "<style scoped>\n",
       "    .dataframe tbody tr th:only-of-type {\n",
       "        vertical-align: middle;\n",
       "    }\n",
       "\n",
       "    .dataframe tbody tr th {\n",
       "        vertical-align: top;\n",
       "    }\n",
       "\n",
       "    .dataframe thead th {\n",
       "        text-align: right;\n",
       "    }\n",
       "</style>\n",
       "<table border=\"1\" class=\"dataframe\">\n",
       "  <thead>\n",
       "    <tr style=\"text-align: right;\">\n",
       "      <th></th>\n",
       "      <th>Borough</th>\n",
       "      <th>Cluster Labels</th>\n",
       "      <th>1st Most Common Venue</th>\n",
       "      <th>2nd Most Common Venue</th>\n",
       "      <th>3rd Most Common Venue</th>\n",
       "      <th>4th Most Common Venue</th>\n",
       "      <th>5th Most Common Venue</th>\n",
       "      <th>6th Most Common Venue</th>\n",
       "      <th>7th Most Common Venue</th>\n",
       "      <th>8th Most Common Venue</th>\n",
       "      <th>9th Most Common Venue</th>\n",
       "      <th>10th Most Common Venue</th>\n",
       "    </tr>\n",
       "  </thead>\n",
       "  <tbody>\n",
       "    <tr>\n",
       "      <td>6</td>\n",
       "      <td>Central Toronto</td>\n",
       "      <td>1</td>\n",
       "      <td>Health &amp; Beauty Service</td>\n",
       "      <td>Garden</td>\n",
       "      <td>Yoga Studio</td>\n",
       "      <td>Vietnamese Restaurant</td>\n",
       "      <td>Hotel</td>\n",
       "      <td>History Museum</td>\n",
       "      <td>Gym / Fitness Center</td>\n",
       "      <td>Gym</td>\n",
       "      <td>Greek Restaurant</td>\n",
       "      <td>Gourmet Shop</td>\n",
       "    </tr>\n",
       "  </tbody>\n",
       "</table>\n",
       "</div>"
      ],
      "text/plain": [
       "           Borough  Cluster Labels    1st Most Common Venue  \\\n",
       "6  Central Toronto               1  Health & Beauty Service   \n",
       "\n",
       "  2nd Most Common Venue 3rd Most Common Venue  4th Most Common Venue  \\\n",
       "6                Garden           Yoga Studio  Vietnamese Restaurant   \n",
       "\n",
       "  5th Most Common Venue 6th Most Common Venue 7th Most Common Venue  \\\n",
       "6                 Hotel        History Museum  Gym / Fitness Center   \n",
       "\n",
       "  8th Most Common Venue 9th Most Common Venue 10th Most Common Venue  \n",
       "6                   Gym      Greek Restaurant           Gourmet Shop  "
      ]
     },
     "execution_count": 76,
     "metadata": {},
     "output_type": "execute_result"
    }
   ],
   "source": [
    "df_temp.loc[df_temp[COL_NAME_CLUSTER_LABELS] == 1, df_temp.columns[[1] + list(range(5, df_temp.shape[1]))]]"
   ]
  },
  {
   "cell_type": "markdown",
   "metadata": {},
   "source": [
    "### Cluster 3"
   ]
  },
  {
   "cell_type": "code",
   "execution_count": 77,
   "metadata": {
    "ExecuteTime": {
     "end_time": "2019-12-14T20:42:25.115575Z",
     "start_time": "2019-12-14T20:42:25.093500Z"
    }
   },
   "outputs": [
    {
     "data": {
      "text/html": [
       "<div>\n",
       "<style scoped>\n",
       "    .dataframe tbody tr th:only-of-type {\n",
       "        vertical-align: middle;\n",
       "    }\n",
       "\n",
       "    .dataframe tbody tr th {\n",
       "        vertical-align: top;\n",
       "    }\n",
       "\n",
       "    .dataframe thead th {\n",
       "        text-align: right;\n",
       "    }\n",
       "</style>\n",
       "<table border=\"1\" class=\"dataframe\">\n",
       "  <thead>\n",
       "    <tr style=\"text-align: right;\">\n",
       "      <th></th>\n",
       "      <th>Borough</th>\n",
       "      <th>Cluster Labels</th>\n",
       "      <th>1st Most Common Venue</th>\n",
       "      <th>2nd Most Common Venue</th>\n",
       "      <th>3rd Most Common Venue</th>\n",
       "      <th>4th Most Common Venue</th>\n",
       "      <th>5th Most Common Venue</th>\n",
       "      <th>6th Most Common Venue</th>\n",
       "      <th>7th Most Common Venue</th>\n",
       "      <th>8th Most Common Venue</th>\n",
       "      <th>9th Most Common Venue</th>\n",
       "      <th>10th Most Common Venue</th>\n",
       "    </tr>\n",
       "  </thead>\n",
       "  <tbody>\n",
       "    <tr>\n",
       "      <td>4</td>\n",
       "      <td>Central Toronto</td>\n",
       "      <td>2</td>\n",
       "      <td>Intersection</td>\n",
       "      <td>Restaurant</td>\n",
       "      <td>Playground</td>\n",
       "      <td>History Museum</td>\n",
       "      <td>Health &amp; Beauty Service</td>\n",
       "      <td>Gym / Fitness Center</td>\n",
       "      <td>Gym</td>\n",
       "      <td>Greek Restaurant</td>\n",
       "      <td>Gourmet Shop</td>\n",
       "      <td>Garden</td>\n",
       "    </tr>\n",
       "  </tbody>\n",
       "</table>\n",
       "</div>"
      ],
      "text/plain": [
       "           Borough  Cluster Labels 1st Most Common Venue  \\\n",
       "4  Central Toronto               2          Intersection   \n",
       "\n",
       "  2nd Most Common Venue 3rd Most Common Venue 4th Most Common Venue  \\\n",
       "4            Restaurant            Playground        History Museum   \n",
       "\n",
       "     5th Most Common Venue 6th Most Common Venue 7th Most Common Venue  \\\n",
       "4  Health & Beauty Service  Gym / Fitness Center                   Gym   \n",
       "\n",
       "  8th Most Common Venue 9th Most Common Venue 10th Most Common Venue  \n",
       "4      Greek Restaurant          Gourmet Shop                 Garden  "
      ]
     },
     "execution_count": 77,
     "metadata": {},
     "output_type": "execute_result"
    }
   ],
   "source": [
    "df_temp.loc[df_temp[COL_NAME_CLUSTER_LABELS] == 2, df_temp.columns[[1] + list(range(5, df_temp.shape[1]))]]"
   ]
  },
  {
   "cell_type": "markdown",
   "metadata": {},
   "source": [
    "### Cluster 4"
   ]
  },
  {
   "cell_type": "code",
   "execution_count": 78,
   "metadata": {
    "ExecuteTime": {
     "end_time": "2019-12-14T20:42:25.138360Z",
     "start_time": "2019-12-14T20:42:25.117042Z"
    }
   },
   "outputs": [
    {
     "data": {
      "text/html": [
       "<div>\n",
       "<style scoped>\n",
       "    .dataframe tbody tr th:only-of-type {\n",
       "        vertical-align: middle;\n",
       "    }\n",
       "\n",
       "    .dataframe tbody tr th {\n",
       "        vertical-align: top;\n",
       "    }\n",
       "\n",
       "    .dataframe thead th {\n",
       "        text-align: right;\n",
       "    }\n",
       "</style>\n",
       "<table border=\"1\" class=\"dataframe\">\n",
       "  <thead>\n",
       "    <tr style=\"text-align: right;\">\n",
       "      <th></th>\n",
       "      <th>Borough</th>\n",
       "      <th>Cluster Labels</th>\n",
       "      <th>1st Most Common Venue</th>\n",
       "      <th>2nd Most Common Venue</th>\n",
       "      <th>3rd Most Common Venue</th>\n",
       "      <th>4th Most Common Venue</th>\n",
       "      <th>5th Most Common Venue</th>\n",
       "      <th>6th Most Common Venue</th>\n",
       "      <th>7th Most Common Venue</th>\n",
       "      <th>8th Most Common Venue</th>\n",
       "      <th>9th Most Common Venue</th>\n",
       "      <th>10th Most Common Venue</th>\n",
       "    </tr>\n",
       "  </thead>\n",
       "  <tbody>\n",
       "    <tr>\n",
       "      <td>0</td>\n",
       "      <td>Central Toronto</td>\n",
       "      <td>3</td>\n",
       "      <td>Gym / Fitness Center</td>\n",
       "      <td>Swim School</td>\n",
       "      <td>Bus Line</td>\n",
       "      <td>Park</td>\n",
       "      <td>Yoga Studio</td>\n",
       "      <td>Diner</td>\n",
       "      <td>History Museum</td>\n",
       "      <td>Health &amp; Beauty Service</td>\n",
       "      <td>Gym</td>\n",
       "      <td>Greek Restaurant</td>\n",
       "    </tr>\n",
       "  </tbody>\n",
       "</table>\n",
       "</div>"
      ],
      "text/plain": [
       "           Borough  Cluster Labels 1st Most Common Venue  \\\n",
       "0  Central Toronto               3  Gym / Fitness Center   \n",
       "\n",
       "  2nd Most Common Venue 3rd Most Common Venue 4th Most Common Venue  \\\n",
       "0           Swim School              Bus Line                  Park   \n",
       "\n",
       "  5th Most Common Venue 6th Most Common Venue 7th Most Common Venue  \\\n",
       "0           Yoga Studio                 Diner        History Museum   \n",
       "\n",
       "     8th Most Common Venue 9th Most Common Venue 10th Most Common Venue  \n",
       "0  Health & Beauty Service                   Gym       Greek Restaurant  "
      ]
     },
     "execution_count": 78,
     "metadata": {},
     "output_type": "execute_result"
    }
   ],
   "source": [
    "df_temp.loc[df_temp[COL_NAME_CLUSTER_LABELS] == 3, df_temp.columns[[1] + list(range(5, df_temp.shape[1]))]]"
   ]
  },
  {
   "cell_type": "markdown",
   "metadata": {},
   "source": [
    "### Cluster 5"
   ]
  },
  {
   "cell_type": "code",
   "execution_count": 79,
   "metadata": {
    "ExecuteTime": {
     "end_time": "2019-12-14T20:42:25.164656Z",
     "start_time": "2019-12-14T20:42:25.139696Z"
    }
   },
   "outputs": [
    {
     "data": {
      "text/html": [
       "<div>\n",
       "<style scoped>\n",
       "    .dataframe tbody tr th:only-of-type {\n",
       "        vertical-align: middle;\n",
       "    }\n",
       "\n",
       "    .dataframe tbody tr th {\n",
       "        vertical-align: top;\n",
       "    }\n",
       "\n",
       "    .dataframe thead th {\n",
       "        text-align: right;\n",
       "    }\n",
       "</style>\n",
       "<table border=\"1\" class=\"dataframe\">\n",
       "  <thead>\n",
       "    <tr style=\"text-align: right;\">\n",
       "      <th></th>\n",
       "      <th>Borough</th>\n",
       "      <th>Cluster Labels</th>\n",
       "      <th>1st Most Common Venue</th>\n",
       "      <th>2nd Most Common Venue</th>\n",
       "      <th>3rd Most Common Venue</th>\n",
       "      <th>4th Most Common Venue</th>\n",
       "      <th>5th Most Common Venue</th>\n",
       "      <th>6th Most Common Venue</th>\n",
       "      <th>7th Most Common Venue</th>\n",
       "      <th>8th Most Common Venue</th>\n",
       "      <th>9th Most Common Venue</th>\n",
       "      <th>10th Most Common Venue</th>\n",
       "    </tr>\n",
       "  </thead>\n",
       "  <tbody>\n",
       "    <tr>\n",
       "      <td>7</td>\n",
       "      <td>Central Toronto</td>\n",
       "      <td>4</td>\n",
       "      <td>Trail</td>\n",
       "      <td>Jewelry Store</td>\n",
       "      <td>Sushi Restaurant</td>\n",
       "      <td>Park</td>\n",
       "      <td>Yoga Studio</td>\n",
       "      <td>Dessert Shop</td>\n",
       "      <td>Health &amp; Beauty Service</td>\n",
       "      <td>Gym / Fitness Center</td>\n",
       "      <td>Gym</td>\n",
       "      <td>Greek Restaurant</td>\n",
       "    </tr>\n",
       "  </tbody>\n",
       "</table>\n",
       "</div>"
      ],
      "text/plain": [
       "           Borough  Cluster Labels 1st Most Common Venue  \\\n",
       "7  Central Toronto               4                 Trail   \n",
       "\n",
       "  2nd Most Common Venue 3rd Most Common Venue 4th Most Common Venue  \\\n",
       "7         Jewelry Store      Sushi Restaurant                  Park   \n",
       "\n",
       "  5th Most Common Venue 6th Most Common Venue    7th Most Common Venue  \\\n",
       "7           Yoga Studio          Dessert Shop  Health & Beauty Service   \n",
       "\n",
       "  8th Most Common Venue 9th Most Common Venue 10th Most Common Venue  \n",
       "7  Gym / Fitness Center                   Gym       Greek Restaurant  "
      ]
     },
     "execution_count": 79,
     "metadata": {},
     "output_type": "execute_result"
    }
   ],
   "source": [
    "df_temp.loc[df_temp[COL_NAME_CLUSTER_LABELS] == 4, df_temp.columns[[1] + list(range(5, df_temp.shape[1]))]]"
   ]
  }
 ],
 "metadata": {
  "kernelspec": {
   "display_name": "Python 3",
   "language": "python",
   "name": "python3"
  },
  "language_info": {
   "codemirror_mode": {
    "name": "ipython",
    "version": 3
   },
   "file_extension": ".py",
   "mimetype": "text/x-python",
   "name": "python",
   "nbconvert_exporter": "python",
   "pygments_lexer": "ipython3",
   "version": "3.6.9"
  },
  "latex_envs": {
   "LaTeX_envs_menu_present": true,
   "autoclose": false,
   "autocomplete": true,
   "bibliofile": "biblio.bib",
   "cite_by": "apalike",
   "current_citInitial": 1,
   "eqLabelWithNumbers": true,
   "eqNumInitial": 1,
   "hotkeys": {
    "equation": "Ctrl-E",
    "itemize": "Ctrl-I"
   },
   "labels_anchors": false,
   "latex_user_defs": false,
   "report_style_numbering": false,
   "user_envs_cfg": false
  },
  "toc": {
   "base_numbering": 1,
   "nav_menu": {},
   "number_sections": true,
   "sideBar": true,
   "skip_h1_title": false,
   "title_cell": "Table of Contents",
   "title_sidebar": "Contents",
   "toc_cell": false,
   "toc_position": {
    "height": "calc(100% - 180px)",
    "left": "10px",
    "top": "150px",
    "width": "285px"
   },
   "toc_section_display": true,
   "toc_window_display": false
  },
  "varInspector": {
   "cols": {
    "lenName": 16,
    "lenType": 16,
    "lenVar": 40
   },
   "kernels_config": {
    "python": {
     "delete_cmd_postfix": "",
     "delete_cmd_prefix": "del ",
     "library": "var_list.py",
     "varRefreshCmd": "print(var_dic_list())"
    },
    "r": {
     "delete_cmd_postfix": ") ",
     "delete_cmd_prefix": "rm(",
     "library": "var_list.r",
     "varRefreshCmd": "cat(var_dic_list()) "
    }
   },
   "types_to_exclude": [
    "module",
    "function",
    "builtin_function_or_method",
    "instance",
    "_Feature"
   ],
   "window_display": false
  }
 },
 "nbformat": 4,
 "nbformat_minor": 2
}
